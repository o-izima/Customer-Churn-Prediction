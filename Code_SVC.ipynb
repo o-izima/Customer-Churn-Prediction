{
 "cells": [
  {
   "cell_type": "code",
   "execution_count": 2,
   "id": "b7af9f7b",
   "metadata": {},
   "outputs": [],
   "source": [
    "# Importing the necessary modules and packages\n",
    "import pandas as pd\n",
    "import numpy as np\n",
    "from pandas import read_csv, get_dummies, Series\n",
    "from sklearn.preprocessing import StandardScaler\n",
    "from sklearn.model_selection import train_test_split\n",
    "from imblearn.over_sampling import SMOTE\n",
    "from imblearn.pipeline import Pipeline\n",
    "from sklearn.model_selection import GridSearchCV\n",
    "from sklearn.svm import SVC # Supprt Vector Classifier\n",
    "from sklearn.metrics import accuracy_score, precision_score, recall_score, confusion_matrix,classification_report,ConfusionMatrixDisplay,plot_confusion_matrix\n",
    "import matplotlib.pyplot as plt"
   ]
  },
  {
   "cell_type": "code",
   "execution_count": 3,
   "id": "7af467e6",
   "metadata": {},
   "outputs": [],
   "source": [
    "import warnings\n",
    "warnings.filterwarnings(\"ignore\", category=FutureWarning)"
   ]
  },
  {
   "cell_type": "markdown",
   "id": "e7808842",
   "metadata": {},
   "source": [
    "## We will read in our already processed data from the Random Forest Evaluation\n"
   ]
  },
  {
   "cell_type": "code",
   "execution_count": 5,
   "id": "c66c98bc",
   "metadata": {},
   "outputs": [],
   "source": [
    "# Read in cleaned data from RFC modelling\n",
    "X_train = pd.read_csv(\"CA_data\\\\train_features.csv\")\n",
    "X_test = pd.read_csv(\"CA_data\\\\test_features.csv\")\n",
    "Y_train = pd.read_csv(\"CA_data\\\\train_labels.csv\",header=None)\n",
    "Y_test = pd.read_csv(\"CA_data\\\\test_labels.csv\",header=None)\n",
    "\n",
    "# pd.set_option('display.max_columns', None)\n",
    "# data.head()\n",
    "# #print(data.head())\n",
    "# #print(data.shape)"
   ]
  },
  {
   "cell_type": "code",
   "execution_count": 7,
   "id": "584beee4",
   "metadata": {},
   "outputs": [
    {
     "data": {
      "text/plain": [
       "0    3660\n",
       "1    3660\n",
       "dtype: int64"
      ]
     },
     "execution_count": 7,
     "metadata": {},
     "output_type": "execute_result"
    }
   ],
   "source": [
    "print(Y_train.value_counts())"
   ]
  },
  {
   "cell_type": "code",
   "execution_count": 13,
   "id": "c90cc407",
   "metadata": {},
   "outputs": [],
   "source": [
    "#### We need to convert the labels to the form sklearn expects it (1d array)\n",
    "Y_train = Y_train.squeeze().rename('Attrition_Flag')\n",
    "Y_test = Y_test.squeeze().rename('Attrition_Flag')"
   ]
  },
  {
   "cell_type": "code",
   "execution_count": 14,
   "id": "e0056401",
   "metadata": {},
   "outputs": [
    {
     "data": {
      "text/html": [
       "<div>\n",
       "<style scoped>\n",
       "    .dataframe tbody tr th:only-of-type {\n",
       "        vertical-align: middle;\n",
       "    }\n",
       "\n",
       "    .dataframe tbody tr th {\n",
       "        vertical-align: top;\n",
       "    }\n",
       "\n",
       "    .dataframe thead th {\n",
       "        text-align: right;\n",
       "    }\n",
       "</style>\n",
       "<table border=\"1\" class=\"dataframe\">\n",
       "  <thead>\n",
       "    <tr style=\"text-align: right;\">\n",
       "      <th></th>\n",
       "      <th>Customer_Age</th>\n",
       "      <th>Gender</th>\n",
       "      <th>Dependent_count</th>\n",
       "      <th>Marital_Status</th>\n",
       "      <th>Months_on_book</th>\n",
       "      <th>Total_Relationship_Count</th>\n",
       "      <th>Months_Inactive</th>\n",
       "      <th>Contacts_Count</th>\n",
       "      <th>Credit_Limit</th>\n",
       "      <th>Total_Revolving_Bal</th>\n",
       "      <th>...</th>\n",
       "      <th>Education_Level_Uneducated</th>\n",
       "      <th>Income_Category_$120K +</th>\n",
       "      <th>Income_Category_$40K - $60K</th>\n",
       "      <th>Income_Category_$60K - $80K</th>\n",
       "      <th>Income_Category_$80K - $120K</th>\n",
       "      <th>Income_Category_Less than $40K</th>\n",
       "      <th>Card_Category_Blue</th>\n",
       "      <th>Card_Category_Gold</th>\n",
       "      <th>Card_Category_Platinum</th>\n",
       "      <th>Card_Category_Silver</th>\n",
       "    </tr>\n",
       "  </thead>\n",
       "  <tbody>\n",
       "    <tr>\n",
       "      <th>0</th>\n",
       "      <td>2.065184</td>\n",
       "      <td>-0.954076</td>\n",
       "      <td>-1.026528</td>\n",
       "      <td>-0.906850</td>\n",
       "      <td>2.506217</td>\n",
       "      <td>-0.535370</td>\n",
       "      <td>-0.342390</td>\n",
       "      <td>1.385780</td>\n",
       "      <td>-0.138608</td>\n",
       "      <td>1.419435</td>\n",
       "      <td>...</td>\n",
       "      <td>-0.489102</td>\n",
       "      <td>-0.297459</td>\n",
       "      <td>-0.497644</td>\n",
       "      <td>2.314692</td>\n",
       "      <td>-0.447343</td>\n",
       "      <td>-0.810021</td>\n",
       "      <td>0.268705</td>\n",
       "      <td>-0.104207</td>\n",
       "      <td>-0.042033</td>\n",
       "      <td>-0.240864</td>\n",
       "    </tr>\n",
       "    <tr>\n",
       "      <th>1</th>\n",
       "      <td>-0.792936</td>\n",
       "      <td>1.048135</td>\n",
       "      <td>-0.255519</td>\n",
       "      <td>0.669523</td>\n",
       "      <td>-1.127972</td>\n",
       "      <td>-1.182231</td>\n",
       "      <td>3.658520</td>\n",
       "      <td>-0.416746</td>\n",
       "      <td>-0.717076</td>\n",
       "      <td>-1.444839</td>\n",
       "      <td>...</td>\n",
       "      <td>2.044562</td>\n",
       "      <td>-0.297459</td>\n",
       "      <td>-0.497644</td>\n",
       "      <td>-0.432023</td>\n",
       "      <td>-0.447343</td>\n",
       "      <td>1.234536</td>\n",
       "      <td>0.268705</td>\n",
       "      <td>-0.104207</td>\n",
       "      <td>-0.042033</td>\n",
       "      <td>-0.240864</td>\n",
       "    </tr>\n",
       "    <tr>\n",
       "      <th>2</th>\n",
       "      <td>0.946789</td>\n",
       "      <td>-0.954076</td>\n",
       "      <td>1.286498</td>\n",
       "      <td>0.669523</td>\n",
       "      <td>0.751781</td>\n",
       "      <td>0.758354</td>\n",
       "      <td>-0.342390</td>\n",
       "      <td>-0.416746</td>\n",
       "      <td>0.359990</td>\n",
       "      <td>-1.444839</td>\n",
       "      <td>...</td>\n",
       "      <td>2.044562</td>\n",
       "      <td>-0.297459</td>\n",
       "      <td>-0.497644</td>\n",
       "      <td>-0.432023</td>\n",
       "      <td>2.235423</td>\n",
       "      <td>-0.810021</td>\n",
       "      <td>0.268705</td>\n",
       "      <td>-0.104207</td>\n",
       "      <td>-0.042033</td>\n",
       "      <td>-0.240864</td>\n",
       "    </tr>\n",
       "    <tr>\n",
       "      <th>3</th>\n",
       "      <td>-1.165734</td>\n",
       "      <td>1.048135</td>\n",
       "      <td>0.515489</td>\n",
       "      <td>-0.906850</td>\n",
       "      <td>-0.626705</td>\n",
       "      <td>0.758354</td>\n",
       "      <td>0.657838</td>\n",
       "      <td>0.484517</td>\n",
       "      <td>-0.758827</td>\n",
       "      <td>-0.163876</td>\n",
       "      <td>...</td>\n",
       "      <td>-0.489102</td>\n",
       "      <td>-0.297459</td>\n",
       "      <td>2.009469</td>\n",
       "      <td>-0.432023</td>\n",
       "      <td>-0.447343</td>\n",
       "      <td>-0.810021</td>\n",
       "      <td>0.268705</td>\n",
       "      <td>-0.104207</td>\n",
       "      <td>-0.042033</td>\n",
       "      <td>-0.240864</td>\n",
       "    </tr>\n",
       "    <tr>\n",
       "      <th>4</th>\n",
       "      <td>0.076927</td>\n",
       "      <td>1.048135</td>\n",
       "      <td>1.286498</td>\n",
       "      <td>0.669523</td>\n",
       "      <td>-0.000121</td>\n",
       "      <td>-0.535370</td>\n",
       "      <td>-1.342617</td>\n",
       "      <td>-0.416746</td>\n",
       "      <td>-0.703085</td>\n",
       "      <td>0.405030</td>\n",
       "      <td>...</td>\n",
       "      <td>2.044562</td>\n",
       "      <td>-0.297459</td>\n",
       "      <td>-0.497644</td>\n",
       "      <td>-0.432023</td>\n",
       "      <td>-0.447343</td>\n",
       "      <td>1.234536</td>\n",
       "      <td>0.268705</td>\n",
       "      <td>-0.104207</td>\n",
       "      <td>-0.042033</td>\n",
       "      <td>-0.240864</td>\n",
       "    </tr>\n",
       "  </tbody>\n",
       "</table>\n",
       "<p>5 rows × 26 columns</p>\n",
       "</div>"
      ],
      "text/plain": [
       "   Customer_Age    Gender  Dependent_count  Marital_Status  Months_on_book  \\\n",
       "0      2.065184 -0.954076        -1.026528       -0.906850        2.506217   \n",
       "1     -0.792936  1.048135        -0.255519        0.669523       -1.127972   \n",
       "2      0.946789 -0.954076         1.286498        0.669523        0.751781   \n",
       "3     -1.165734  1.048135         0.515489       -0.906850       -0.626705   \n",
       "4      0.076927  1.048135         1.286498        0.669523       -0.000121   \n",
       "\n",
       "   Total_Relationship_Count  Months_Inactive  Contacts_Count  Credit_Limit  \\\n",
       "0                 -0.535370        -0.342390        1.385780     -0.138608   \n",
       "1                 -1.182231         3.658520       -0.416746     -0.717076   \n",
       "2                  0.758354        -0.342390       -0.416746      0.359990   \n",
       "3                  0.758354         0.657838        0.484517     -0.758827   \n",
       "4                 -0.535370        -1.342617       -0.416746     -0.703085   \n",
       "\n",
       "   Total_Revolving_Bal  ...  Education_Level_Uneducated  \\\n",
       "0             1.419435  ...                   -0.489102   \n",
       "1            -1.444839  ...                    2.044562   \n",
       "2            -1.444839  ...                    2.044562   \n",
       "3            -0.163876  ...                   -0.489102   \n",
       "4             0.405030  ...                    2.044562   \n",
       "\n",
       "   Income_Category_$120K +  Income_Category_$40K - $60K  \\\n",
       "0                -0.297459                    -0.497644   \n",
       "1                -0.297459                    -0.497644   \n",
       "2                -0.297459                    -0.497644   \n",
       "3                -0.297459                     2.009469   \n",
       "4                -0.297459                    -0.497644   \n",
       "\n",
       "   Income_Category_$60K - $80K  Income_Category_$80K - $120K  \\\n",
       "0                     2.314692                     -0.447343   \n",
       "1                    -0.432023                     -0.447343   \n",
       "2                    -0.432023                      2.235423   \n",
       "3                    -0.432023                     -0.447343   \n",
       "4                    -0.432023                     -0.447343   \n",
       "\n",
       "   Income_Category_Less than $40K  Card_Category_Blue  Card_Category_Gold  \\\n",
       "0                       -0.810021            0.268705           -0.104207   \n",
       "1                        1.234536            0.268705           -0.104207   \n",
       "2                       -0.810021            0.268705           -0.104207   \n",
       "3                       -0.810021            0.268705           -0.104207   \n",
       "4                        1.234536            0.268705           -0.104207   \n",
       "\n",
       "   Card_Category_Platinum  Card_Category_Silver  \n",
       "0               -0.042033             -0.240864  \n",
       "1               -0.042033             -0.240864  \n",
       "2               -0.042033             -0.240864  \n",
       "3               -0.042033             -0.240864  \n",
       "4               -0.042033             -0.240864  \n",
       "\n",
       "[5 rows x 26 columns]"
      ]
     },
     "execution_count": 14,
     "metadata": {},
     "output_type": "execute_result"
    }
   ],
   "source": [
    "print(X_train.head())"
   ]
  },
  {
   "cell_type": "markdown",
   "id": "7c4c18b1",
   "metadata": {},
   "source": [
    "# Support Vector Classifier (SVC)\n",
    "\n",
    "#### Method 1: We will begin fitting a basic SVC model in its default setting"
   ]
  },
  {
   "cell_type": "code",
   "execution_count": 15,
   "id": "ada72e73",
   "metadata": {},
   "outputs": [],
   "source": [
    "svc_default = SVC(random_state=100)"
   ]
  },
  {
   "cell_type": "code",
   "execution_count": 16,
   "id": "23dadf1f",
   "metadata": {},
   "outputs": [
    {
     "data": {
      "text/plain": [
       "SVC(random_state=100)"
      ]
     },
     "execution_count": 16,
     "metadata": {},
     "output_type": "execute_result"
    }
   ],
   "source": [
    "svc_default.fit(X_train,Y_train) # Training"
   ]
  },
  {
   "cell_type": "code",
   "execution_count": 17,
   "id": "41bb661f",
   "metadata": {},
   "outputs": [
    {
     "name": "stdout",
     "output_type": "stream",
     "text": [
      "{'C': 1.0, 'break_ties': False, 'cache_size': 200, 'class_weight': None, 'coef0': 0.0, 'decision_function_shape': 'ovr', 'degree': 3, 'gamma': 'scale', 'kernel': 'rbf', 'max_iter': -1, 'probability': False, 'random_state': 100, 'shrinking': True, 'tol': 0.001, 'verbose': False}\n"
     ]
    }
   ],
   "source": [
    "print(svc_default.get_params())"
   ]
  },
  {
   "cell_type": "code",
   "execution_count": 18,
   "id": "1bf46afd",
   "metadata": {},
   "outputs": [],
   "source": [
    "default_pred = svc_default.predict(X_test) #Testing"
   ]
  },
  {
   "cell_type": "code",
   "execution_count": 19,
   "id": "f54769f9",
   "metadata": {},
   "outputs": [
    {
     "name": "stdout",
     "output_type": "stream",
     "text": [
      "svc_default accuracy is: 0.8734 ≈ 87.34 %\n",
      "svc_default recall is: 0.7681 ≈ 76.81 %\n",
      "svc_default precision is: 0.5506 ≈ 55.06 %\n"
     ]
    }
   ],
   "source": [
    "print(\"svc_default accuracy is:\", round(accuracy_score(Y_test, default_pred),4),'≈', \n",
    "      round(accuracy_score(Y_test, default_pred)*100,2),'%')\n",
    "print(\"svc_default recall is:\", round(recall_score(Y_test, default_pred),4),'≈', \n",
    "      round(recall_score(Y_test, default_pred)*100,2),'%')\n",
    "print(\"svc_default precision is:\", round(precision_score(Y_test, default_pred),4),'≈', \n",
    "      round(precision_score(Y_test, default_pred)*100,2),'%')"
   ]
  },
  {
   "cell_type": "code",
   "execution_count": 20,
   "id": "611cc655",
   "metadata": {
    "scrolled": true
   },
   "outputs": [
    {
     "name": "stdout",
     "output_type": "stream",
     "text": [
      "[[1423  173]\n",
      " [  64  212]]\n"
     ]
    }
   ],
   "source": [
    "con_matrix = confusion_matrix(Y_test,default_pred)\n",
    "print (con_matrix)"
   ]
  },
  {
   "cell_type": "code",
   "execution_count": 24,
   "id": "1f788c67",
   "metadata": {},
   "outputs": [
    {
     "name": "stdout",
     "output_type": "stream",
     "text": [
      "------- svc_default confusion matrix----------------\n",
      "[[1423  173]\n",
      " [  64  212]]\n"
     ]
    }
   ],
   "source": [
    "print(\"------- svc_default confusion matrix----------------\")\n",
    "con_matrix_default = confusion_matrix(Y_test, default_pred)\n",
    "print (con_matrix_default)"
   ]
  },
  {
   "cell_type": "code",
   "execution_count": 27,
   "id": "6ab76ff4",
   "metadata": {},
   "outputs": [
    {
     "data": {
      "image/png": "[encoded data removed]",
      "text/plain": [
       "<Figure size 640x480 with 2 Axes>"
      ]
     },
     "metadata": {},
     "output_type": "display_data"
    }
   ],
   "source": [
    "plot_confusion_matrix(svc_default,X_test,Y_test);"
   ]
  },
  {
   "cell_type": "markdown",
   "id": "9e72fd48",
   "metadata": {},
   "source": [
    "#### Method 2: Fit a SVC model with some changed parameters\n",
    "kernel='linear', gamma='auto', C=10"
   ]
  },
  {
   "cell_type": "code",
   "execution_count": 29,
   "id": "fa878007",
   "metadata": {},
   "outputs": [
    {
     "data": {
      "text/plain": [
       "SVC(C=10, gamma='auto', kernel='linear', random_state=101)"
      ]
     },
     "execution_count": 29,
     "metadata": {},
     "output_type": "execute_result"
    }
   ],
   "source": [
    "svc_1 = SVC(kernel='linear',gamma='auto', C=10,random_state=101)\n",
    "svc_1.fit(X_train,Y_train)"
   ]
  },
  {
   "cell_type": "code",
   "execution_count": 30,
   "id": "62b46ade",
   "metadata": {},
   "outputs": [],
   "source": [
    "pred_svc_1 = svc_1.predict(X_test) #Testing"
   ]
  },
  {
   "cell_type": "code",
   "execution_count": 31,
   "id": "564f4e14",
   "metadata": {
    "scrolled": true
   },
   "outputs": [
    {
     "name": "stdout",
     "output_type": "stream",
     "text": [
      "----svc_1 with kernel='linear',gamma='auto', C=10----------------\n",
      "svc_1 accuracy is: 0.8291 ≈ 82.91 %\n",
      "svc_1 recall is: 0.8225 ≈ 82.25 %\n",
      "svc_1 precision is: 0.4558 ≈ 45.58 %\n"
     ]
    }
   ],
   "source": [
    "print(\"----svc_1 with kernel='linear',gamma='auto', C=10----------------\")\n",
    "print(\"svc_1 accuracy is:\", round(accuracy_score(Y_test, pred_svc_1),4),'≈', \n",
    "      round(accuracy_score(Y_test, pred_svc_1)*100,2),'%')\n",
    "print(\"svc_1 recall is:\", round(recall_score(Y_test, pred_svc_1),4),'≈', \n",
    "      round(recall_score(Y_test, pred_svc_1)*100,2),'%')\n",
    "print(\"svc_1 precision is:\", round(precision_score(Y_test, pred_svc_1),4),'≈', \n",
    "      round(precision_score(Y_test, pred_svc_1)*100,2),'%')"
   ]
  },
  {
   "cell_type": "code",
   "execution_count": 50,
   "id": "2a05ea88",
   "metadata": {
    "scrolled": true
   },
   "outputs": [
    {
     "name": "stdout",
     "output_type": "stream",
     "text": [
      "------- svc_1 confusion matrix----------------\n",
      "[[1325  271]\n",
      " [  49  227]]\n"
     ]
    }
   ],
   "source": [
    "print(\"------- svc_1 confusion matrix----------------\")\n",
    "con_matrix_svc1 = confusion_matrix(Y_test, pred_svc_1)\n",
    "print (con_matrix_svc1)"
   ]
  },
  {
   "cell_type": "code",
   "execution_count": 51,
   "id": "15c56d1a",
   "metadata": {},
   "outputs": [
    {
     "data": {
      "image/png": "[encoded data removed]",
      "text/plain": [
       "<Figure size 640x480 with 2 Axes>"
      ]
     },
     "metadata": {},
     "output_type": "display_data"
    }
   ],
   "source": [
    "plot_confusion_matrix(svc_1,X_test,Y_test);"
   ]
  },
  {
   "cell_type": "markdown",
   "id": "cdfedd47",
   "metadata": {},
   "source": [
    "#### Method 3: Fit a SVC model using Pipeline of transforms and estimator"
   ]
  },
  {
   "cell_type": "code",
   "execution_count": 33,
   "id": "1c03ccdb",
   "metadata": {},
   "outputs": [
    {
     "name": "stdout",
     "output_type": "stream",
     "text": [
      "{'classification__C': 100, 'classification__kernel': 'rbf'}\n",
      "0.990983606557377\n"
     ]
    }
   ],
   "source": [
    "model = Pipeline([('balancing', SMOTE(random_state = 102)),('classification', SVC(random_state=10) ) ]) # bulilding classifier\n",
    "kernels_c = {'classification__kernel': ['linear','poly','rbf','sigmoid'], 'classification__C': [.001,.01,.1,1,10,100]}\n",
    "grid_search1 = GridSearchCV(estimator=model, param_grid=kernels_c, scoring='recall', cv=5)\n",
    "grid_search1.fit(X_train, Y_train)\n",
    "\n",
    "best_parameters_gs1 = grid_search1.best_params_\n",
    "print(best_parameters_gs1)\n",
    "best_result_gs1 = grid_search1.best_score_ \n",
    "print(best_result_gs1)"
   ]
  },
  {
   "cell_type": "markdown",
   "id": "9aba373d",
   "metadata": {},
   "source": [
    "##### Fitting with the best parameters found via the GridSearchCV\n"
   ]
  },
  {
   "cell_type": "code",
   "execution_count": 45,
   "id": "e38478f7",
   "metadata": {},
   "outputs": [
    {
     "data": {
      "text/plain": [
       "SVC(C=100, random_state=103)"
      ]
     },
     "execution_count": 45,
     "metadata": {},
     "output_type": "execute_result"
    }
   ],
   "source": [
    "svc_2 = SVC(kernel='rbf', C=100, random_state=103)  # building classifier \n",
    "svc_2.fit(X_train, Y_train) # training "
   ]
  },
  {
   "cell_type": "code",
   "execution_count": 46,
   "id": "7d23dbd9",
   "metadata": {},
   "outputs": [],
   "source": [
    "pred_svc_2 = svc_2.predict(X_test) "
   ]
  },
  {
   "cell_type": "code",
   "execution_count": 47,
   "id": "c99423f0",
   "metadata": {},
   "outputs": [
    {
     "name": "stdout",
     "output_type": "stream",
     "text": [
      "rfc with max_features: 2 and 200 trees accuracy is: 0.8723 ≈ 87.23 %\n",
      "rfc with max_features: 2 and 200 trees recall is: 0.5616 ≈ 56.16 %\n",
      "rfc with max_features: 2 and 200 trees precision is: 0.5678 ≈ 56.78 %\n"
     ]
    }
   ],
   "source": [
    "print(\"svc_2 with max_features: 2 and 200 trees accuracy is:\", round(accuracy_score(Y_test, pred_svc_2),4),'≈', \n",
    "      round(accuracy_score(Y_test, pred_svc_2)*100,2),'%')\n",
    "print(\"rfc with max_features: 2 and 200 trees recall is:\", round(recall_score(Y_test, pred_svc_2),4),'≈', \n",
    "      round(recall_score(Y_test, pred_svc_2)*100,2),'%')\n",
    "print(\"rfc with max_features: 2 and 200 trees precision is:\", round(precision_score(Y_test, pred_svc_2),4),'≈', \n",
    "      round(precision_score(Y_test, pred_svc_2)*100,2),'%')"
   ]
  },
  {
   "cell_type": "code",
   "execution_count": 35,
   "id": "4721314e",
   "metadata": {},
   "outputs": [],
   "source": [
    "pred_svc_2= svc_2.predict(X_test)  #testing "
   ]
  },
  {
   "cell_type": "code",
   "execution_count": 48,
   "id": "44c9fc03",
   "metadata": {},
   "outputs": [
    {
     "name": "stdout",
     "output_type": "stream",
     "text": [
      "----svc_2 with kernel='rbf' and C=10----------------\n",
      "svc_2 accuracy is: 0.8723 ≈ 87.23 %\n",
      "svc_2 recall is: 0.5616 ≈ 56.16 %\n",
      "svc_2 precision is: 0.5678 ≈ 56.78 %\n"
     ]
    }
   ],
   "source": [
    "print(\"----svc_2 with kernel='rbf' and C=10----------------\")\n",
    "print(\"svc_2 accuracy is:\", round(accuracy_score(Y_test, pred_svc_2),4),'≈', \n",
    "      round(accuracy_score(Y_test, pred_svc_2)*100,2),'%')\n",
    "print(\"svc_2 recall is:\", round(recall_score(Y_test, pred_svc_2),4),'≈', \n",
    "      round(recall_score(Y_test, pred_svc_2)*100,2),'%')\n",
    "print(\"svc_2 precision is:\", round(precision_score(Y_test, pred_svc_2),4),'≈', \n",
    "      round(precision_score(Y_test, pred_svc_2)*100,2),'%')"
   ]
  },
  {
   "cell_type": "code",
   "execution_count": 52,
   "id": "459828e6",
   "metadata": {},
   "outputs": [
    {
     "name": "stdout",
     "output_type": "stream",
     "text": [
      "------- svc_2 confusion matrix----------------\n",
      "[[1478  118]\n",
      " [ 121  155]]\n"
     ]
    }
   ],
   "source": [
    "print(\"------- svc_2 confusion matrix----------------\")\n",
    "con_matrix_svc2 = confusion_matrix(Y_test, pred_svc_2)\n",
    "print (con_matrix_svc2)"
   ]
  },
  {
   "cell_type": "code",
   "execution_count": 53,
   "id": "ef777725",
   "metadata": {},
   "outputs": [
    {
     "data": {
      "image/png": "[encoded data removed]",
      "text/plain": [
       "<Figure size 640x480 with 2 Axes>"
      ]
     },
     "metadata": {},
     "output_type": "display_data"
    }
   ],
   "source": [
    "plot_confusion_matrix(svc_2,X_test,Y_test);"
   ]
  },
  {
   "cell_type": "markdown",
   "id": "8bf591da",
   "metadata": {},
   "source": [
    "## SVC seems to be overfitting; does so well on training data and poorly on testing data in terms of recall"
   ]
  },
  {
   "cell_type": "code",
   "execution_count": null,
   "id": "4f5ea979",
   "metadata": {},
   "outputs": [],
   "source": []
  }
 ],
 "metadata": {
  "kernelspec": {
   "display_name": "Python 3 (ipykernel)",
   "language": "python",
   "name": "python3"
  },
  "language_info": {
   "codemirror_mode": {
    "name": "ipython",
    "version": 3
   },
   "file_extension": ".py",
   "mimetype": "text/x-python",
   "name": "python",
   "nbconvert_exporter": "python",
   "pygments_lexer": "ipython3",
   "version": "3.7.6"
  }
 },
 "nbformat": 4,
 "nbformat_minor": 5
}
