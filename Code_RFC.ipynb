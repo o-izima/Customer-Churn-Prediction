{
 "cells": [
  {
   "cell_type": "code",
   "execution_count": 189,
   "id": "b4e083a5",
   "metadata": {},
   "outputs": [],
   "source": [
    "# Importing the necessary libaries\n",
    "import pandas as pd\n",
    "import numpy as np\n",
    "from pandas import read_csv, get_dummies, Series\n",
    "from sklearn.preprocessing import StandardScaler\n",
    "from sklearn.model_selection import train_test_split\n",
    "from imblearn.over_sampling import SMOTE\n",
    "from imblearn.pipeline import Pipeline\n",
    "from sklearn.model_selection import GridSearchCV\n",
    "from sklearn.ensemble import RandomForestClassifier\n",
    "from sklearn.svm import SVC\n",
    "from sklearn.metrics import accuracy_score, precision_score, recall_score, confusion_matrix,classification_report,ConfusionMatrixDisplay,plot_confusion_matrix\n",
    "import matplotlib.pyplot as plt"
   ]
  },
  {
   "cell_type": "code",
   "execution_count": 190,
   "id": "5e133a13",
   "metadata": {},
   "outputs": [],
   "source": [
    "import warnings\n",
    "warnings.filterwarnings(\"ignore\", category=FutureWarning)"
   ]
  },
  {
   "cell_type": "code",
   "execution_count": 191,
   "id": "cafedc88",
   "metadata": {},
   "outputs": [
    {
     "data": {
      "text/html": [
       "<div>\n",
       "<style scoped>\n",
       "    .dataframe tbody tr th:only-of-type {\n",
       "        vertical-align: middle;\n",
       "    }\n",
       "\n",
       "    .dataframe tbody tr th {\n",
       "        vertical-align: top;\n",
       "    }\n",
       "\n",
       "    .dataframe thead th {\n",
       "        text-align: right;\n",
       "    }\n",
       "</style>\n",
       "<table border=\"1\" class=\"dataframe\">\n",
       "  <thead>\n",
       "    <tr style=\"text-align: right;\">\n",
       "      <th></th>\n",
       "      <th>Attrition_Flag</th>\n",
       "      <th>Customer_Age</th>\n",
       "      <th>Gender</th>\n",
       "      <th>Dependent_count</th>\n",
       "      <th>Education_Level</th>\n",
       "      <th>Marital_Status</th>\n",
       "      <th>Income_Category</th>\n",
       "      <th>Card_Category</th>\n",
       "      <th>Months_on_book</th>\n",
       "      <th>Total_Relationship_Count</th>\n",
       "      <th>Months_Inactive</th>\n",
       "      <th>Contacts_Count</th>\n",
       "      <th>Credit_Limit</th>\n",
       "      <th>Total_Revolving_Bal</th>\n",
       "      <th>Total_Trans_Amt</th>\n",
       "      <th>Total_Trans_Ct</th>\n",
       "    </tr>\n",
       "  </thead>\n",
       "  <tbody>\n",
       "    <tr>\n",
       "      <th>0</th>\n",
       "      <td>Existing Customer</td>\n",
       "      <td>45</td>\n",
       "      <td>M</td>\n",
       "      <td>3</td>\n",
       "      <td>High School</td>\n",
       "      <td>Married</td>\n",
       "      <td>$60K - $80K</td>\n",
       "      <td>Blue</td>\n",
       "      <td>39</td>\n",
       "      <td>5</td>\n",
       "      <td>1</td>\n",
       "      <td>3</td>\n",
       "      <td>12691.0</td>\n",
       "      <td>777</td>\n",
       "      <td>1144</td>\n",
       "      <td>42</td>\n",
       "    </tr>\n",
       "    <tr>\n",
       "      <th>1</th>\n",
       "      <td>Existing Customer</td>\n",
       "      <td>49</td>\n",
       "      <td>F</td>\n",
       "      <td>5</td>\n",
       "      <td>Graduate</td>\n",
       "      <td>Single</td>\n",
       "      <td>Less than $40K</td>\n",
       "      <td>Blue</td>\n",
       "      <td>44</td>\n",
       "      <td>6</td>\n",
       "      <td>1</td>\n",
       "      <td>2</td>\n",
       "      <td>8256.0</td>\n",
       "      <td>864</td>\n",
       "      <td>1291</td>\n",
       "      <td>33</td>\n",
       "    </tr>\n",
       "    <tr>\n",
       "      <th>2</th>\n",
       "      <td>Existing Customer</td>\n",
       "      <td>51</td>\n",
       "      <td>M</td>\n",
       "      <td>3</td>\n",
       "      <td>Graduate</td>\n",
       "      <td>Married</td>\n",
       "      <td>$80K - $120K</td>\n",
       "      <td>Blue</td>\n",
       "      <td>36</td>\n",
       "      <td>4</td>\n",
       "      <td>1</td>\n",
       "      <td>0</td>\n",
       "      <td>3418.0</td>\n",
       "      <td>0</td>\n",
       "      <td>1887</td>\n",
       "      <td>20</td>\n",
       "    </tr>\n",
       "    <tr>\n",
       "      <th>3</th>\n",
       "      <td>Existing Customer</td>\n",
       "      <td>40</td>\n",
       "      <td>M</td>\n",
       "      <td>3</td>\n",
       "      <td>Uneducated</td>\n",
       "      <td>Married</td>\n",
       "      <td>$60K - $80K</td>\n",
       "      <td>Blue</td>\n",
       "      <td>21</td>\n",
       "      <td>5</td>\n",
       "      <td>1</td>\n",
       "      <td>0</td>\n",
       "      <td>4716.0</td>\n",
       "      <td>0</td>\n",
       "      <td>816</td>\n",
       "      <td>28</td>\n",
       "    </tr>\n",
       "    <tr>\n",
       "      <th>4</th>\n",
       "      <td>Existing Customer</td>\n",
       "      <td>44</td>\n",
       "      <td>M</td>\n",
       "      <td>2</td>\n",
       "      <td>Graduate</td>\n",
       "      <td>Married</td>\n",
       "      <td>$40K - $60K</td>\n",
       "      <td>Blue</td>\n",
       "      <td>36</td>\n",
       "      <td>3</td>\n",
       "      <td>1</td>\n",
       "      <td>2</td>\n",
       "      <td>4010.0</td>\n",
       "      <td>1247</td>\n",
       "      <td>1088</td>\n",
       "      <td>24</td>\n",
       "    </tr>\n",
       "  </tbody>\n",
       "</table>\n",
       "</div>"
      ],
      "text/plain": [
       "      Attrition_Flag  Customer_Age Gender  Dependent_count Education_Level  \\\n",
       "0  Existing Customer            45      M                3     High School   \n",
       "1  Existing Customer            49      F                5        Graduate   \n",
       "2  Existing Customer            51      M                3        Graduate   \n",
       "3  Existing Customer            40      M                3      Uneducated   \n",
       "4  Existing Customer            44      M                2        Graduate   \n",
       "\n",
       "  Marital_Status Income_Category Card_Category  Months_on_book  \\\n",
       "0        Married     $60K - $80K          Blue              39   \n",
       "1         Single  Less than $40K          Blue              44   \n",
       "2        Married    $80K - $120K          Blue              36   \n",
       "3        Married     $60K - $80K          Blue              21   \n",
       "4        Married     $40K - $60K          Blue              36   \n",
       "\n",
       "   Total_Relationship_Count  Months_Inactive  Contacts_Count  Credit_Limit  \\\n",
       "0                         5                1               3       12691.0   \n",
       "1                         6                1               2        8256.0   \n",
       "2                         4                1               0        3418.0   \n",
       "3                         5                1               0        4716.0   \n",
       "4                         3                1               2        4010.0   \n",
       "\n",
       "   Total_Revolving_Bal  Total_Trans_Amt  Total_Trans_Ct  \n",
       "0                  777             1144              42  \n",
       "1                  864             1291              33  \n",
       "2                    0             1887              20  \n",
       "3                    0              816              28  \n",
       "4                 1247             1088              24  "
      ]
     },
     "execution_count": 191,
     "metadata": {},
     "output_type": "execute_result"
    }
   ],
   "source": [
    "#Let's import the dataset and examine it\n",
    "data = pd.read_csv('CustomerChurn.csv')\n",
    "pd.set_option('display.max_columns', None)\n",
    "#data.head()\n",
    "print(data.head())"
   ]
  },
  {
   "cell_type": "markdown",
   "id": "8defbd60",
   "metadata": {},
   "source": [
    "#### Let's explore the shape of the dataset"
   ]
  },
  {
   "cell_type": "code",
   "execution_count": 4,
   "id": "8e36b74e",
   "metadata": {},
   "outputs": [
    {
     "name": "stdout",
     "output_type": "stream",
     "text": [
      "(6237, 16)\n"
     ]
    }
   ],
   "source": [
    "print(data.shape)"
   ]
  },
  {
   "cell_type": "markdown",
   "id": "f6aa8f8b",
   "metadata": {},
   "source": [
    "# Data Preparation and Cleaning"
   ]
  },
  {
   "cell_type": "code",
   "execution_count": 5,
   "id": "4b5a0469",
   "metadata": {
    "scrolled": true
   },
   "outputs": [
    {
     "data": {
      "text/plain": [
       "Attrition_Flag               object\n",
       "Customer_Age                  int64\n",
       "Gender                       object\n",
       "Dependent_count               int64\n",
       "Education_Level              object\n",
       "Marital_Status               object\n",
       "Income_Category              object\n",
       "Card_Category                object\n",
       "Months_on_book                int64\n",
       "Total_Relationship_Count      int64\n",
       "Months_Inactive               int64\n",
       "Contacts_Count                int64\n",
       "Credit_Limit                float64\n",
       "Total_Revolving_Bal           int64\n",
       "Total_Trans_Amt               int64\n",
       "Total_Trans_Ct                int64\n",
       "dtype: object"
      ]
     },
     "execution_count": 5,
     "metadata": {},
     "output_type": "execute_result"
    }
   ],
   "source": [
    "print(data.dtypes) #check for categorical and continuous variables"
   ]
  },
  {
   "cell_type": "code",
   "execution_count": 6,
   "id": "1c963dd2",
   "metadata": {},
   "outputs": [],
   "source": [
    "''' Creating a list of the categorical features '''\n",
    "obj_cols = []\n",
    "for i in data:\n",
    "     if data[i].dtypes == 'object':\n",
    "        obj_cols.append(i)"
   ]
  },
  {
   "cell_type": "code",
   "execution_count": 7,
   "id": "cd7e18ac",
   "metadata": {},
   "outputs": [],
   "source": [
    "''' Creating a list of the continuous features '''\n",
    "cont_cols = []\n",
    "for i in data:\n",
    "    if data[i].dtypes == 'int64' or data[i].dtypes == 'float64':\n",
    "        cont_cols.append(i)"
   ]
  },
  {
   "cell_type": "markdown",
   "id": "2b2f76d9",
   "metadata": {},
   "source": [
    "#### Checking for NaN and null values in the continuous variables"
   ]
  },
  {
   "cell_type": "code",
   "execution_count": 8,
   "id": "905c4441",
   "metadata": {},
   "outputs": [
    {
     "name": "stdout",
     "output_type": "stream",
     "text": [
      "Customer_Age : 0\n",
      "Dependent_count : 0\n",
      "Months_on_book : 0\n",
      "Total_Relationship_Count : 0\n",
      "Months_Inactive : 0\n",
      "Contacts_Count : 0\n",
      "Credit_Limit : 0\n",
      "Total_Revolving_Bal : 0\n",
      "Total_Trans_Amt : 0\n",
      "Total_Trans_Ct : 0\n"
     ]
    }
   ],
   "source": [
    "for k in cont_cols:\n",
    "    print(k, \":\", data[k].isnull().sum())\n"
   ]
  },
  {
   "cell_type": "code",
   "execution_count": 9,
   "id": "53de8539",
   "metadata": {},
   "outputs": [
    {
     "name": "stdout",
     "output_type": "stream",
     "text": [
      "Customer_Age : 0\n",
      "Dependent_count : 0\n",
      "Months_on_book : 0\n",
      "Total_Relationship_Count : 0\n",
      "Months_Inactive : 0\n",
      "Contacts_Count : 0\n",
      "Credit_Limit : 0\n",
      "Total_Revolving_Bal : 0\n",
      "Total_Trans_Amt : 0\n",
      "Total_Trans_Ct : 0\n"
     ]
    }
   ],
   "source": [
    "for k in cont_cols:\n",
    "    print(k, \":\", data[k].isna().sum())"
   ]
  },
  {
   "cell_type": "markdown",
   "id": "57a04abd",
   "metadata": {},
   "source": [
    "#### Encoding the categorical variables"
   ]
  },
  {
   "cell_type": "code",
   "execution_count": 166,
   "id": "3461d2a8",
   "metadata": {},
   "outputs": [
    {
     "name": "stdout",
     "output_type": "stream",
     "text": [
      "Attrition_Flag : 2\n",
      "Gender : 2\n",
      "Education_Level : 5\n",
      "Marital_Status : 3\n",
      "Income_Category : 5\n",
      "Card_Category : 4\n"
     ]
    }
   ],
   "source": [
    "for k in obj_cols:\n",
    "    print(k, \":\", data[k].nunique())"
   ]
  },
  {
   "cell_type": "code",
   "execution_count": 10,
   "id": "8d6bc832",
   "metadata": {
    "scrolled": true
   },
   "outputs": [
    {
     "name": "stdout",
     "output_type": "stream",
     "text": [
      "Attrition_Flag : ['Existing Customer' 'Attrited Customer']\n",
      "Gender : ['M' 'F']\n",
      "Education_Level : ['High School' 'Graduate' 'Uneducated' 'Post-Graduate' 'Doctorate']\n",
      "Marital_Status : ['Married' 'Single' 'Divorced']\n",
      "Income_Category : ['$60K - $80K' 'Less than $40K' '$80K - $120K' '$40K - $60K' '$120K +']\n",
      "Card_Category : ['Blue' 'Gold' 'Silver' 'Platinum']\n"
     ]
    }
   ],
   "source": [
    "# Let's find out the number of classes in each categorical feature\n",
    "for k in obj_cols:\n",
    "    print(k, \":\", data[k].unique())\n",
    "   "
   ]
  },
  {
   "cell_type": "code",
   "execution_count": 192,
   "id": "cf367989",
   "metadata": {},
   "outputs": [
    {
     "data": {
      "text/html": [
       "<div>\n",
       "<style scoped>\n",
       "    .dataframe tbody tr th:only-of-type {\n",
       "        vertical-align: middle;\n",
       "    }\n",
       "\n",
       "    .dataframe tbody tr th {\n",
       "        vertical-align: top;\n",
       "    }\n",
       "\n",
       "    .dataframe thead th {\n",
       "        text-align: right;\n",
       "    }\n",
       "</style>\n",
       "<table border=\"1\" class=\"dataframe\">\n",
       "  <thead>\n",
       "    <tr style=\"text-align: right;\">\n",
       "      <th></th>\n",
       "      <th>Attrition_Flag</th>\n",
       "      <th>Customer_Age</th>\n",
       "      <th>Gender</th>\n",
       "      <th>Dependent_count</th>\n",
       "      <th>Marital_Status</th>\n",
       "      <th>Months_on_book</th>\n",
       "      <th>Total_Relationship_Count</th>\n",
       "      <th>Months_Inactive</th>\n",
       "      <th>Contacts_Count</th>\n",
       "      <th>Credit_Limit</th>\n",
       "      <th>Total_Revolving_Bal</th>\n",
       "      <th>Total_Trans_Amt</th>\n",
       "      <th>Total_Trans_Ct</th>\n",
       "      <th>Education_Level_Doctorate</th>\n",
       "      <th>Education_Level_Graduate</th>\n",
       "      <th>Education_Level_High School</th>\n",
       "      <th>Education_Level_Post-Graduate</th>\n",
       "      <th>Education_Level_Uneducated</th>\n",
       "      <th>Income_Category_$120K +</th>\n",
       "      <th>Income_Category_$40K - $60K</th>\n",
       "      <th>Income_Category_$60K - $80K</th>\n",
       "      <th>Income_Category_$80K - $120K</th>\n",
       "      <th>Income_Category_Less than $40K</th>\n",
       "      <th>Card_Category_Blue</th>\n",
       "      <th>Card_Category_Gold</th>\n",
       "      <th>Card_Category_Platinum</th>\n",
       "      <th>Card_Category_Silver</th>\n",
       "    </tr>\n",
       "  </thead>\n",
       "  <tbody>\n",
       "    <tr>\n",
       "      <th>0</th>\n",
       "      <td>0</td>\n",
       "      <td>45</td>\n",
       "      <td>0</td>\n",
       "      <td>3</td>\n",
       "      <td>0</td>\n",
       "      <td>39</td>\n",
       "      <td>5</td>\n",
       "      <td>1</td>\n",
       "      <td>3</td>\n",
       "      <td>12691.0</td>\n",
       "      <td>777</td>\n",
       "      <td>1144</td>\n",
       "      <td>42</td>\n",
       "      <td>0</td>\n",
       "      <td>0</td>\n",
       "      <td>1</td>\n",
       "      <td>0</td>\n",
       "      <td>0</td>\n",
       "      <td>0</td>\n",
       "      <td>0</td>\n",
       "      <td>1</td>\n",
       "      <td>0</td>\n",
       "      <td>0</td>\n",
       "      <td>1</td>\n",
       "      <td>0</td>\n",
       "      <td>0</td>\n",
       "      <td>0</td>\n",
       "    </tr>\n",
       "    <tr>\n",
       "      <th>1</th>\n",
       "      <td>0</td>\n",
       "      <td>49</td>\n",
       "      <td>1</td>\n",
       "      <td>5</td>\n",
       "      <td>1</td>\n",
       "      <td>44</td>\n",
       "      <td>6</td>\n",
       "      <td>1</td>\n",
       "      <td>2</td>\n",
       "      <td>8256.0</td>\n",
       "      <td>864</td>\n",
       "      <td>1291</td>\n",
       "      <td>33</td>\n",
       "      <td>0</td>\n",
       "      <td>1</td>\n",
       "      <td>0</td>\n",
       "      <td>0</td>\n",
       "      <td>0</td>\n",
       "      <td>0</td>\n",
       "      <td>0</td>\n",
       "      <td>0</td>\n",
       "      <td>0</td>\n",
       "      <td>1</td>\n",
       "      <td>1</td>\n",
       "      <td>0</td>\n",
       "      <td>0</td>\n",
       "      <td>0</td>\n",
       "    </tr>\n",
       "    <tr>\n",
       "      <th>2</th>\n",
       "      <td>0</td>\n",
       "      <td>51</td>\n",
       "      <td>0</td>\n",
       "      <td>3</td>\n",
       "      <td>0</td>\n",
       "      <td>36</td>\n",
       "      <td>4</td>\n",
       "      <td>1</td>\n",
       "      <td>0</td>\n",
       "      <td>3418.0</td>\n",
       "      <td>0</td>\n",
       "      <td>1887</td>\n",
       "      <td>20</td>\n",
       "      <td>0</td>\n",
       "      <td>1</td>\n",
       "      <td>0</td>\n",
       "      <td>0</td>\n",
       "      <td>0</td>\n",
       "      <td>0</td>\n",
       "      <td>0</td>\n",
       "      <td>0</td>\n",
       "      <td>1</td>\n",
       "      <td>0</td>\n",
       "      <td>1</td>\n",
       "      <td>0</td>\n",
       "      <td>0</td>\n",
       "      <td>0</td>\n",
       "    </tr>\n",
       "    <tr>\n",
       "      <th>3</th>\n",
       "      <td>0</td>\n",
       "      <td>40</td>\n",
       "      <td>0</td>\n",
       "      <td>3</td>\n",
       "      <td>0</td>\n",
       "      <td>21</td>\n",
       "      <td>5</td>\n",
       "      <td>1</td>\n",
       "      <td>0</td>\n",
       "      <td>4716.0</td>\n",
       "      <td>0</td>\n",
       "      <td>816</td>\n",
       "      <td>28</td>\n",
       "      <td>0</td>\n",
       "      <td>0</td>\n",
       "      <td>0</td>\n",
       "      <td>0</td>\n",
       "      <td>1</td>\n",
       "      <td>0</td>\n",
       "      <td>0</td>\n",
       "      <td>1</td>\n",
       "      <td>0</td>\n",
       "      <td>0</td>\n",
       "      <td>1</td>\n",
       "      <td>0</td>\n",
       "      <td>0</td>\n",
       "      <td>0</td>\n",
       "    </tr>\n",
       "    <tr>\n",
       "      <th>4</th>\n",
       "      <td>0</td>\n",
       "      <td>44</td>\n",
       "      <td>0</td>\n",
       "      <td>2</td>\n",
       "      <td>0</td>\n",
       "      <td>36</td>\n",
       "      <td>3</td>\n",
       "      <td>1</td>\n",
       "      <td>2</td>\n",
       "      <td>4010.0</td>\n",
       "      <td>1247</td>\n",
       "      <td>1088</td>\n",
       "      <td>24</td>\n",
       "      <td>0</td>\n",
       "      <td>1</td>\n",
       "      <td>0</td>\n",
       "      <td>0</td>\n",
       "      <td>0</td>\n",
       "      <td>0</td>\n",
       "      <td>1</td>\n",
       "      <td>0</td>\n",
       "      <td>0</td>\n",
       "      <td>0</td>\n",
       "      <td>1</td>\n",
       "      <td>0</td>\n",
       "      <td>0</td>\n",
       "      <td>0</td>\n",
       "    </tr>\n",
       "  </tbody>\n",
       "</table>\n",
       "</div>"
      ],
      "text/plain": [
       "   Attrition_Flag  Customer_Age  Gender  Dependent_count  Marital_Status  \\\n",
       "0               0            45       0                3               0   \n",
       "1               0            49       1                5               1   \n",
       "2               0            51       0                3               0   \n",
       "3               0            40       0                3               0   \n",
       "4               0            44       0                2               0   \n",
       "\n",
       "   Months_on_book  Total_Relationship_Count  Months_Inactive  Contacts_Count  \\\n",
       "0              39                         5                1               3   \n",
       "1              44                         6                1               2   \n",
       "2              36                         4                1               0   \n",
       "3              21                         5                1               0   \n",
       "4              36                         3                1               2   \n",
       "\n",
       "   Credit_Limit  Total_Revolving_Bal  Total_Trans_Amt  Total_Trans_Ct  \\\n",
       "0       12691.0                  777             1144              42   \n",
       "1        8256.0                  864             1291              33   \n",
       "2        3418.0                    0             1887              20   \n",
       "3        4716.0                    0              816              28   \n",
       "4        4010.0                 1247             1088              24   \n",
       "\n",
       "   Education_Level_Doctorate  Education_Level_Graduate  \\\n",
       "0                          0                         0   \n",
       "1                          0                         1   \n",
       "2                          0                         1   \n",
       "3                          0                         0   \n",
       "4                          0                         1   \n",
       "\n",
       "   Education_Level_High School  Education_Level_Post-Graduate  \\\n",
       "0                            1                              0   \n",
       "1                            0                              0   \n",
       "2                            0                              0   \n",
       "3                            0                              0   \n",
       "4                            0                              0   \n",
       "\n",
       "   Education_Level_Uneducated  Income_Category_$120K +  \\\n",
       "0                           0                        0   \n",
       "1                           0                        0   \n",
       "2                           0                        0   \n",
       "3                           1                        0   \n",
       "4                           0                        0   \n",
       "\n",
       "   Income_Category_$40K - $60K  Income_Category_$60K - $80K  \\\n",
       "0                            0                            1   \n",
       "1                            0                            0   \n",
       "2                            0                            0   \n",
       "3                            0                            1   \n",
       "4                            1                            0   \n",
       "\n",
       "   Income_Category_$80K - $120K  Income_Category_Less than $40K  \\\n",
       "0                             0                               0   \n",
       "1                             0                               1   \n",
       "2                             1                               0   \n",
       "3                             0                               0   \n",
       "4                             0                               0   \n",
       "\n",
       "   Card_Category_Blue  Card_Category_Gold  Card_Category_Platinum  \\\n",
       "0                   1                   0                       0   \n",
       "1                   1                   0                       0   \n",
       "2                   1                   0                       0   \n",
       "3                   1                   0                       0   \n",
       "4                   1                   0                       0   \n",
       "\n",
       "   Card_Category_Silver  \n",
       "0                     0  \n",
       "1                     0  \n",
       "2                     0  \n",
       "3                     0  \n",
       "4                     0  "
      ]
     },
     "execution_count": 192,
     "metadata": {},
     "output_type": "execute_result"
    }
   ],
   "source": [
    "'''\n",
    "- We will use labelencoder for Attrition_Flag, Gender and Marital_Status.\n",
    "- We will use one-hot encoding for Education_Level, Income_Category and Card_Category.\n",
    "'''\n",
    "categorical_features = ['Education_Level','Income_Category','Card_Category']\n",
    "data['Attrition_Flag'] = data['Attrition_Flag'].map({'Existing Customer':0, 'Attrited Customer':1}) \n",
    "data['Gender'] = data['Gender'].map({'M':0, 'F':1})\n",
    "data['Marital_Status'] = data['Marital_Status'].map({'Married':0, 'Single':1, 'Divorced':2})\n",
    "\n",
    "dataset = pd.get_dummies(data, columns=categorical_features)\n",
    "print(dataset.head())"
   ]
  },
  {
   "cell_type": "markdown",
   "id": "906d4006",
   "metadata": {},
   "source": [
    "#### Dividing the dataset into label and feature set"
   ]
  },
  {
   "cell_type": "code",
   "execution_count": 193,
   "id": "11116394",
   "metadata": {},
   "outputs": [
    {
     "name": "stdout",
     "output_type": "stream",
     "text": [
      "(6237, 26)\n",
      "(6237,)\n"
     ]
    }
   ],
   "source": [
    "X = dataset.drop('Attrition_Flag', axis = 1) # Features\n",
    "Y = dataset['Attrition_Flag'] # Labels\n",
    "# print(type(X))\n",
    "# print(type(Y))\n",
    "print(X.shape)\n",
    "print(Y.shape)\n"
   ]
  },
  {
   "cell_type": "code",
   "execution_count": 194,
   "id": "b811ccac",
   "metadata": {},
   "outputs": [
    {
     "data": {
      "text/plain": [
       "Index(['Attrition_Flag', 'Customer_Age', 'Gender', 'Dependent_count',\n",
       "       'Marital_Status', 'Months_on_book', 'Total_Relationship_Count',\n",
       "       'Months_Inactive', 'Contacts_Count', 'Credit_Limit',\n",
       "       'Total_Revolving_Bal', 'Total_Trans_Amt', 'Total_Trans_Ct',\n",
       "       'Education_Level_Doctorate', 'Education_Level_Graduate',\n",
       "       'Education_Level_High School', 'Education_Level_Post-Graduate',\n",
       "       'Education_Level_Uneducated', 'Income_Category_$120K +',\n",
       "       'Income_Category_$40K - $60K', 'Income_Category_$60K - $80K',\n",
       "       'Income_Category_$80K - $120K', 'Income_Category_Less than $40K',\n",
       "       'Card_Category_Blue', 'Card_Category_Gold', 'Card_Category_Platinum',\n",
       "       'Card_Category_Silver'],\n",
       "      dtype='object')"
      ]
     },
     "execution_count": 194,
     "metadata": {},
     "output_type": "execute_result"
    }
   ],
   "source": [
    "# Let's obtain a list of the dataset columns for renaming the normalized data\n",
    "print(dataset.columns) # --> label + feature sets"
   ]
  },
  {
   "cell_type": "code",
   "execution_count": 14,
   "id": "31ceb218",
   "metadata": {},
   "outputs": [],
   "source": [
    "# Feature set only\n",
    "dataset_cols = ['Customer_Age', 'Gender', 'Dependent_count',\n",
    "       'Marital_Status', 'Months_on_book', 'Total_Relationship_Count',\n",
    "       'Months_Inactive', 'Contacts_Count', 'Credit_Limit',\n",
    "       'Total_Revolving_Bal', 'Total_Trans_Amt', 'Total_Trans_Ct',\n",
    "       'Education_Level_Doctorate', 'Education_Level_Graduate',\n",
    "       'Education_Level_High School', 'Education_Level_Post-Graduate',\n",
    "       'Education_Level_Uneducated', 'Income_Category_$120K +',\n",
    "       'Income_Category_$40K - $60K', 'Income_Category_$60K - $80K',\n",
    "       'Income_Category_$80K - $120K', 'Income_Category_Less than $40K',\n",
    "       'Card_Category_Blue', 'Card_Category_Gold', 'Card_Category_Platinum',\n",
    "       'Card_Category_Silver']"
   ]
  },
  {
   "cell_type": "markdown",
   "id": "6982f54f",
   "metadata": {},
   "source": [
    "### Data standardization, balancing and splitting"
   ]
  },
  {
   "cell_type": "code",
   "execution_count": 195,
   "id": "df37f6c8",
   "metadata": {},
   "outputs": [
    {
     "data": {
      "text/html": [
       "<div>\n",
       "<style scoped>\n",
       "    .dataframe tbody tr th:only-of-type {\n",
       "        vertical-align: middle;\n",
       "    }\n",
       "\n",
       "    .dataframe tbody tr th {\n",
       "        vertical-align: top;\n",
       "    }\n",
       "\n",
       "    .dataframe thead th {\n",
       "        text-align: right;\n",
       "    }\n",
       "</style>\n",
       "<table border=\"1\" class=\"dataframe\">\n",
       "  <thead>\n",
       "    <tr style=\"text-align: right;\">\n",
       "      <th></th>\n",
       "      <th>Customer_Age</th>\n",
       "      <th>Gender</th>\n",
       "      <th>Dependent_count</th>\n",
       "      <th>Marital_Status</th>\n",
       "      <th>Months_on_book</th>\n",
       "      <th>Total_Relationship_Count</th>\n",
       "      <th>Months_Inactive</th>\n",
       "      <th>Contacts_Count</th>\n",
       "      <th>Credit_Limit</th>\n",
       "      <th>Total_Revolving_Bal</th>\n",
       "      <th>Total_Trans_Amt</th>\n",
       "      <th>Total_Trans_Ct</th>\n",
       "      <th>Education_Level_Doctorate</th>\n",
       "      <th>Education_Level_Graduate</th>\n",
       "      <th>Education_Level_High School</th>\n",
       "      <th>Education_Level_Post-Graduate</th>\n",
       "      <th>Education_Level_Uneducated</th>\n",
       "      <th>Income_Category_$120K +</th>\n",
       "      <th>Income_Category_$40K - $60K</th>\n",
       "      <th>Income_Category_$60K - $80K</th>\n",
       "      <th>Income_Category_$80K - $120K</th>\n",
       "      <th>Income_Category_Less than $40K</th>\n",
       "      <th>Card_Category_Blue</th>\n",
       "      <th>Card_Category_Gold</th>\n",
       "      <th>Card_Category_Platinum</th>\n",
       "      <th>Card_Category_Silver</th>\n",
       "    </tr>\n",
       "  </thead>\n",
       "  <tbody>\n",
       "    <tr>\n",
       "      <th>0</th>\n",
       "      <td>-0.171606</td>\n",
       "      <td>-0.954076</td>\n",
       "      <td>0.515489</td>\n",
       "      <td>-0.906850</td>\n",
       "      <td>0.375830</td>\n",
       "      <td>0.758354</td>\n",
       "      <td>-1.342617</td>\n",
       "      <td>0.484517</td>\n",
       "      <td>0.464535</td>\n",
       "      <td>-0.485968</td>\n",
       "      <td>-0.933855</td>\n",
       "      <td>-0.941811</td>\n",
       "      <td>-0.246769</td>\n",
       "      <td>-0.842996</td>\n",
       "      <td>1.665275</td>\n",
       "      <td>-0.272458</td>\n",
       "      <td>-0.489102</td>\n",
       "      <td>-0.297459</td>\n",
       "      <td>-0.497644</td>\n",
       "      <td>2.314692</td>\n",
       "      <td>-0.447343</td>\n",
       "      <td>-0.810021</td>\n",
       "      <td>0.268705</td>\n",
       "      <td>-0.104207</td>\n",
       "      <td>-0.042033</td>\n",
       "      <td>-0.240864</td>\n",
       "    </tr>\n",
       "    <tr>\n",
       "      <th>1</th>\n",
       "      <td>0.325459</td>\n",
       "      <td>1.048135</td>\n",
       "      <td>2.057506</td>\n",
       "      <td>0.669523</td>\n",
       "      <td>1.002414</td>\n",
       "      <td>1.405216</td>\n",
       "      <td>-1.342617</td>\n",
       "      <td>-0.416746</td>\n",
       "      <td>-0.024039</td>\n",
       "      <td>-0.378604</td>\n",
       "      <td>-0.891850</td>\n",
       "      <td>-1.318392</td>\n",
       "      <td>-0.246769</td>\n",
       "      <td>1.186246</td>\n",
       "      <td>-0.600502</td>\n",
       "      <td>-0.272458</td>\n",
       "      <td>-0.489102</td>\n",
       "      <td>-0.297459</td>\n",
       "      <td>-0.497644</td>\n",
       "      <td>-0.432023</td>\n",
       "      <td>-0.447343</td>\n",
       "      <td>1.234536</td>\n",
       "      <td>0.268705</td>\n",
       "      <td>-0.104207</td>\n",
       "      <td>-0.042033</td>\n",
       "      <td>-0.240864</td>\n",
       "    </tr>\n",
       "    <tr>\n",
       "      <th>2</th>\n",
       "      <td>0.573991</td>\n",
       "      <td>-0.954076</td>\n",
       "      <td>0.515489</td>\n",
       "      <td>-0.906850</td>\n",
       "      <td>-0.000121</td>\n",
       "      <td>0.111492</td>\n",
       "      <td>-1.342617</td>\n",
       "      <td>-2.219272</td>\n",
       "      <td>-0.557008</td>\n",
       "      <td>-1.444839</td>\n",
       "      <td>-0.721543</td>\n",
       "      <td>-1.862343</td>\n",
       "      <td>-0.246769</td>\n",
       "      <td>1.186246</td>\n",
       "      <td>-0.600502</td>\n",
       "      <td>-0.272458</td>\n",
       "      <td>-0.489102</td>\n",
       "      <td>-0.297459</td>\n",
       "      <td>-0.497644</td>\n",
       "      <td>-0.432023</td>\n",
       "      <td>2.235423</td>\n",
       "      <td>-0.810021</td>\n",
       "      <td>0.268705</td>\n",
       "      <td>-0.104207</td>\n",
       "      <td>-0.042033</td>\n",
       "      <td>-0.240864</td>\n",
       "    </tr>\n",
       "    <tr>\n",
       "      <th>3</th>\n",
       "      <td>-0.792936</td>\n",
       "      <td>-0.954076</td>\n",
       "      <td>0.515489</td>\n",
       "      <td>-0.906850</td>\n",
       "      <td>-1.879873</td>\n",
       "      <td>0.758354</td>\n",
       "      <td>-1.342617</td>\n",
       "      <td>-2.219272</td>\n",
       "      <td>-0.414016</td>\n",
       "      <td>-1.444839</td>\n",
       "      <td>-1.027581</td>\n",
       "      <td>-1.527604</td>\n",
       "      <td>-0.246769</td>\n",
       "      <td>-0.842996</td>\n",
       "      <td>-0.600502</td>\n",
       "      <td>-0.272458</td>\n",
       "      <td>2.044562</td>\n",
       "      <td>-0.297459</td>\n",
       "      <td>-0.497644</td>\n",
       "      <td>2.314692</td>\n",
       "      <td>-0.447343</td>\n",
       "      <td>-0.810021</td>\n",
       "      <td>0.268705</td>\n",
       "      <td>-0.104207</td>\n",
       "      <td>-0.042033</td>\n",
       "      <td>-0.240864</td>\n",
       "    </tr>\n",
       "    <tr>\n",
       "      <th>4</th>\n",
       "      <td>-0.295872</td>\n",
       "      <td>-0.954076</td>\n",
       "      <td>-0.255519</td>\n",
       "      <td>-0.906850</td>\n",
       "      <td>-0.000121</td>\n",
       "      <td>-0.535370</td>\n",
       "      <td>-1.342617</td>\n",
       "      <td>-0.416746</td>\n",
       "      <td>-0.491792</td>\n",
       "      <td>0.094045</td>\n",
       "      <td>-0.949857</td>\n",
       "      <td>-1.694973</td>\n",
       "      <td>-0.246769</td>\n",
       "      <td>1.186246</td>\n",
       "      <td>-0.600502</td>\n",
       "      <td>-0.272458</td>\n",
       "      <td>-0.489102</td>\n",
       "      <td>-0.297459</td>\n",
       "      <td>2.009469</td>\n",
       "      <td>-0.432023</td>\n",
       "      <td>-0.447343</td>\n",
       "      <td>-0.810021</td>\n",
       "      <td>0.268705</td>\n",
       "      <td>-0.104207</td>\n",
       "      <td>-0.042033</td>\n",
       "      <td>-0.240864</td>\n",
       "    </tr>\n",
       "  </tbody>\n",
       "</table>\n",
       "</div>"
      ],
      "text/plain": [
       "   Customer_Age    Gender  Dependent_count  Marital_Status  Months_on_book  \\\n",
       "0     -0.171606 -0.954076         0.515489       -0.906850        0.375830   \n",
       "1      0.325459  1.048135         2.057506        0.669523        1.002414   \n",
       "2      0.573991 -0.954076         0.515489       -0.906850       -0.000121   \n",
       "3     -0.792936 -0.954076         0.515489       -0.906850       -1.879873   \n",
       "4     -0.295872 -0.954076        -0.255519       -0.906850       -0.000121   \n",
       "\n",
       "   Total_Relationship_Count  Months_Inactive  Contacts_Count  Credit_Limit  \\\n",
       "0                  0.758354        -1.342617        0.484517      0.464535   \n",
       "1                  1.405216        -1.342617       -0.416746     -0.024039   \n",
       "2                  0.111492        -1.342617       -2.219272     -0.557008   \n",
       "3                  0.758354        -1.342617       -2.219272     -0.414016   \n",
       "4                 -0.535370        -1.342617       -0.416746     -0.491792   \n",
       "\n",
       "   Total_Revolving_Bal  Total_Trans_Amt  Total_Trans_Ct  \\\n",
       "0            -0.485968        -0.933855       -0.941811   \n",
       "1            -0.378604        -0.891850       -1.318392   \n",
       "2            -1.444839        -0.721543       -1.862343   \n",
       "3            -1.444839        -1.027581       -1.527604   \n",
       "4             0.094045        -0.949857       -1.694973   \n",
       "\n",
       "   Education_Level_Doctorate  Education_Level_Graduate  \\\n",
       "0                  -0.246769                 -0.842996   \n",
       "1                  -0.246769                  1.186246   \n",
       "2                  -0.246769                  1.186246   \n",
       "3                  -0.246769                 -0.842996   \n",
       "4                  -0.246769                  1.186246   \n",
       "\n",
       "   Education_Level_High School  Education_Level_Post-Graduate  \\\n",
       "0                     1.665275                      -0.272458   \n",
       "1                    -0.600502                      -0.272458   \n",
       "2                    -0.600502                      -0.272458   \n",
       "3                    -0.600502                      -0.272458   \n",
       "4                    -0.600502                      -0.272458   \n",
       "\n",
       "   Education_Level_Uneducated  Income_Category_$120K +  \\\n",
       "0                   -0.489102                -0.297459   \n",
       "1                   -0.489102                -0.297459   \n",
       "2                   -0.489102                -0.297459   \n",
       "3                    2.044562                -0.297459   \n",
       "4                   -0.489102                -0.297459   \n",
       "\n",
       "   Income_Category_$40K - $60K  Income_Category_$60K - $80K  \\\n",
       "0                    -0.497644                     2.314692   \n",
       "1                    -0.497644                    -0.432023   \n",
       "2                    -0.497644                    -0.432023   \n",
       "3                    -0.497644                     2.314692   \n",
       "4                     2.009469                    -0.432023   \n",
       "\n",
       "   Income_Category_$80K - $120K  Income_Category_Less than $40K  \\\n",
       "0                     -0.447343                       -0.810021   \n",
       "1                     -0.447343                        1.234536   \n",
       "2                      2.235423                       -0.810021   \n",
       "3                     -0.447343                       -0.810021   \n",
       "4                     -0.447343                       -0.810021   \n",
       "\n",
       "   Card_Category_Blue  Card_Category_Gold  Card_Category_Platinum  \\\n",
       "0            0.268705           -0.104207               -0.042033   \n",
       "1            0.268705           -0.104207               -0.042033   \n",
       "2            0.268705           -0.104207               -0.042033   \n",
       "3            0.268705           -0.104207               -0.042033   \n",
       "4            0.268705           -0.104207               -0.042033   \n",
       "\n",
       "   Card_Category_Silver  \n",
       "0             -0.240864  \n",
       "1             -0.240864  \n",
       "2             -0.240864  \n",
       "3             -0.240864  \n",
       "4             -0.240864  "
      ]
     },
     "execution_count": 195,
     "metadata": {},
     "output_type": "execute_result"
    }
   ],
   "source": [
    "# Data scaling\n",
    "X_scaled = StandardScaler().fit_transform(X.astype(float)) \n",
    "X_scaled = pd.DataFrame(X_scaled,columns=dataset_cols)\n",
    "print(X_scaled.head())"
   ]
  },
  {
   "cell_type": "code",
   "execution_count": 196,
   "id": "df4fbd9e",
   "metadata": {},
   "outputs": [
    {
     "name": "stdout",
     "output_type": "stream",
     "text": [
      "(4365, 26)\n",
      "(1872, 26)\n"
     ]
    }
   ],
   "source": [
    "# Data splitting\n",
    "X_train, X_test, Y_train, Y_test = train_test_split( X_scaled, Y, test_size = 0.30, random_state = 123)\n",
    "print(X_train.shape)\n",
    "print(X_test.shape)"
   ]
  },
  {
   "cell_type": "code",
   "execution_count": 33,
   "id": "90d07331",
   "metadata": {},
   "outputs": [],
   "source": [
    "# Saving cleaned dataset for use in the SVC models\n",
    "\n",
    "# X_train.to_csv('CA_data/train_features.csv', index=False)\n",
    "# X_test.to_csv('CA_data/test_features.csv', index=False)\n",
    "\n",
    "# Y_train.to_csv('CA_data/train_labels.csv', index=False)\n",
    "# Y_test.to_csv('CA_data/test_labels.csv', index=False)"
   ]
  },
  {
   "cell_type": "code",
   "execution_count": 197,
   "id": "c7bef19a",
   "metadata": {},
   "outputs": [
    {
     "name": "stdout",
     "output_type": "stream",
     "text": [
      "Number of observations in each class before oversampling (training data): \n",
      " 0    3660\n",
      "1     705\n",
      "Name: Attrition_Flag, dtype: int64\n"
     ]
    }
   ],
   "source": [
    "# Data balancing\n",
    "print(\"Number of observations in each class before oversampling (training data): \\n\", Series(Y_train).value_counts())"
   ]
  },
  {
   "cell_type": "code",
   "execution_count": 18,
   "id": "bbdd22bf",
   "metadata": {},
   "outputs": [
    {
     "name": "stdout",
     "output_type": "stream",
     "text": [
      "Number of observations in each class after oversampling (training data): \n",
      " 0    3660\n",
      "1    3660\n",
      "Name: Attrition_Flag, dtype: int64\n"
     ]
    }
   ],
   "source": [
    "X_train,Y_train = SMOTE (random_state = 100).fit_resample(X_train,Y_train) \n",
    "print(\"Number of observations in each class after oversampling (training data): \\n\", Series(Y_train).value_counts())"
   ]
  },
  {
   "cell_type": "markdown",
   "id": "1974fbcb",
   "metadata": {},
   "source": [
    "# Random Forest Classification (RFC)"
   ]
  },
  {
   "cell_type": "markdown",
   "id": "41229bcc",
   "metadata": {},
   "source": [
    "#### Method 1. We will begin by fitting a basic RFC model in its default setting\n",
    "n_estimators=100, criterion='gini', max_features='auto'"
   ]
  },
  {
   "cell_type": "code",
   "execution_count": 19,
   "id": "32e43985",
   "metadata": {},
   "outputs": [],
   "source": [
    "rfc_default = RandomForestClassifier(random_state=101)"
   ]
  },
  {
   "cell_type": "code",
   "execution_count": 20,
   "id": "55e3eb7b",
   "metadata": {},
   "outputs": [
    {
     "name": "stdout",
     "output_type": "stream",
     "text": [
      "{'bootstrap': True, 'ccp_alpha': 0.0, 'class_weight': None, 'criterion': 'gini', 'max_depth': None, 'max_features': 'auto', 'max_leaf_nodes': None, 'max_samples': None, 'min_impurity_decrease': 0.0, 'min_impurity_split': None, 'min_samples_leaf': 1, 'min_samples_split': 2, 'min_weight_fraction_leaf': 0.0, 'n_estimators': 100, 'n_jobs': None, 'oob_score': False, 'random_state': 101, 'verbose': 0, 'warm_start': False}\n"
     ]
    }
   ],
   "source": [
    "print(rfc_default.get_params())"
   ]
  },
  {
   "cell_type": "code",
   "execution_count": 21,
   "id": "b268ae45",
   "metadata": {},
   "outputs": [
    {
     "data": {
      "text/plain": [
       "RandomForestClassifier(random_state=101)"
      ]
     },
     "execution_count": 21,
     "metadata": {},
     "output_type": "execute_result"
    }
   ],
   "source": [
    "rfc_default.fit(X_train,Y_train) # Training"
   ]
  },
  {
   "cell_type": "code",
   "execution_count": 22,
   "id": "517e88a7",
   "metadata": {},
   "outputs": [],
   "source": [
    "default_pred = rfc_default.predict(X_test) #Testing"
   ]
  },
  {
   "cell_type": "code",
   "execution_count": 23,
   "id": "59c9c919",
   "metadata": {
    "scrolled": true
   },
   "outputs": [
    {
     "name": "stdout",
     "output_type": "stream",
     "text": [
      "<-------rfc_default classification metrics---------------->\n",
      "rfc_default accuracy is: 0.9418 ≈ 94.18 %\n",
      "rfc_default recall is: 0.7971 ≈ 79.71 %\n",
      "rfc_default precision is: 0.8059 ≈ 80.59 %\n"
     ]
    }
   ],
   "source": [
    "print(\"<-------rfc_default classification metrics---------------->\")\n",
    "print(\"rfc_default accuracy is:\", round(accuracy_score(Y_test, default_pred),4),'≈', \n",
    "      round(accuracy_score(Y_test, default_pred)*100,2),'%')\n",
    "print(\"rfc_default recall is:\", round(recall_score(Y_test, default_pred),4),'≈', \n",
    "      round(recall_score(Y_test, default_pred)*100,2),'%')\n",
    "print(\"rfc_default precision is:\", round(precision_score(Y_test, default_pred),4),'≈', \n",
    "      round(precision_score(Y_test, default_pred)*100,2),'%')"
   ]
  },
  {
   "cell_type": "code",
   "execution_count": 24,
   "id": "a25d5b60",
   "metadata": {
    "scrolled": true
   },
   "outputs": [
    {
     "name": "stdout",
     "output_type": "stream",
     "text": [
      "<-------rfc_default confusion matrix--------------->\n",
      "[[1543   53]\n",
      " [  56  220]]\n"
     ]
    }
   ],
   "source": [
    "print(\"<-------rfc_default confusion matrix--------------->\")\n",
    "con_matrix_default = confusion_matrix(Y_test, default_pred)\n",
    "print (con_matrix_default)"
   ]
  },
  {
   "cell_type": "code",
   "execution_count": 29,
   "id": "d65485ac",
   "metadata": {
    "scrolled": true
   },
   "outputs": [
    {
     "data": {
      "image/png": "[encoded data removed]",
      "text/plain": [
       "<Figure size 640x480 with 2 Axes>"
      ]
     },
     "metadata": {},
     "output_type": "display_data"
    }
   ],
   "source": [
    "plot_confusion_matrix(rfc_default,X_test,Y_test)\n",
    "#plt.savefig('rfc_default_cm.png')"
   ]
  },
  {
   "cell_type": "code",
   "execution_count": 228,
   "id": "bcdcd6c5",
   "metadata": {},
   "outputs": [
    {
     "name": "stdout",
     "output_type": "stream",
     "text": [
      "              precision    recall  f1-score   support\n",
      "\n",
      "           0       0.96      0.97      0.97      1596\n",
      "           1       0.81      0.80      0.80       276\n",
      "\n",
      "    accuracy                           0.94      1872\n",
      "   macro avg       0.89      0.88      0.88      1872\n",
      "weighted avg       0.94      0.94      0.94      1872\n",
      "\n"
     ]
    }
   ],
   "source": [
    "print(classification_report(Y_test,default_pred))"
   ]
  },
  {
   "cell_type": "markdown",
   "id": "d5cd7c06",
   "metadata": {},
   "source": [
    "#### Method 2. Fit a RFC model with some parameters (manually chosen parameters)\n",
    "Parameters used: n_estimators=50, criterion='entropy', max_features='auto'"
   ]
  },
  {
   "cell_type": "code",
   "execution_count": 30,
   "id": "c124500c",
   "metadata": {},
   "outputs": [
    {
     "data": {
      "text/plain": [
       "RandomForestClassifier(criterion='entropy', n_estimators=50, random_state=102)"
      ]
     },
     "execution_count": 30,
     "metadata": {},
     "output_type": "execute_result"
    }
   ],
   "source": [
    "rfc_50 = RandomForestClassifier(n_estimators=50, criterion='entropy', max_features='auto',random_state=102)\n",
    "rfc_50.fit(X_train,Y_train) # Training"
   ]
  },
  {
   "cell_type": "code",
   "execution_count": 31,
   "id": "d66b4eec",
   "metadata": {},
   "outputs": [],
   "source": [
    "pred_rfc50 = rfc_50.predict(X_test) #Testing"
   ]
  },
  {
   "cell_type": "code",
   "execution_count": 32,
   "id": "668f8fb1",
   "metadata": {
    "scrolled": true
   },
   "outputs": [
    {
     "name": "stdout",
     "output_type": "stream",
     "text": [
      "<-------rfc_50 classification metrics---------------->\n",
      "rfc_50 accuracy is: 0.9428 ≈ 94.28 %\n",
      "rfc_50 recall is: 0.8043 ≈ 80.43 %\n",
      "rfc_50 precision is: 0.8073 ≈ 80.73 %\n"
     ]
    }
   ],
   "source": [
    "print(\"<-------rfc_50 classification metrics---------------->\")\n",
    "print(\"rfc_50 accuracy is:\", round(accuracy_score(Y_test, pred_rfc50),4),'≈', \n",
    "      round(accuracy_score(Y_test, pred_rfc50)*100,2),'%')\n",
    "print(\"rfc_50 recall is:\", round(recall_score(Y_test, pred_rfc50),4),'≈', \n",
    "      round(recall_score(Y_test, pred_rfc50)*100,2),'%')\n",
    "print(\"rfc_50 precision is:\", round(precision_score(Y_test, pred_rfc50),4),'≈', \n",
    "      round(precision_score(Y_test, pred_rfc50)*100,2),'%')"
   ]
  },
  {
   "cell_type": "code",
   "execution_count": 38,
   "id": "04689a47",
   "metadata": {
    "scrolled": true
   },
   "outputs": [
    {
     "name": "stdout",
     "output_type": "stream",
     "text": [
      "<------- rfc50 confusion matrix---------------->\n",
      "[[1543   53]\n",
      " [  54  222]]\n"
     ]
    }
   ],
   "source": [
    "print(\"<------- rfc50 confusion matrix---------------->\")\n",
    "con_matrix_rfc50 = confusion_matrix(Y_test, pred_rfc50)\n",
    "print (con_matrix_rfc50)"
   ]
  },
  {
   "cell_type": "code",
   "execution_count": 34,
   "id": "fc46aa50",
   "metadata": {},
   "outputs": [
    {
     "data": {
      "image/png": "[encoded data removed]",
      "text/plain": [
       "<Figure size 640x480 with 2 Axes>"
      ]
     },
     "metadata": {},
     "output_type": "display_data"
    }
   ],
   "source": [
    "plot_confusion_matrix(rfc_50,X_test,Y_test)\n",
    "#plt.savefig('rfc_50_cm.png')"
   ]
  },
  {
   "cell_type": "markdown",
   "id": "e78e2228",
   "metadata": {},
   "source": [
    "#### Method 3. Fit a RFC model using GridSearchCV\n"
   ]
  },
  {
   "cell_type": "code",
   "execution_count": 35,
   "id": "ba7a34de",
   "metadata": {},
   "outputs": [
    {
     "name": "stdout",
     "output_type": "stream",
     "text": [
      "{'n_estimators': 300}\n",
      "0.9683060109289618\n"
     ]
    }
   ],
   "source": [
    "rfc_gs = RandomForestClassifier(criterion='entropy', max_features='auto', random_state=103) # building model\n",
    "no_trees = {'n_estimators': [200, 250, 300, 350, 400, 450, 500, 550, 600]}\n",
    "grid_search = GridSearchCV(estimator=rfc_gs, param_grid=no_trees, scoring='recall', cv=5)\n",
    "grid_search.fit(X_train, Y_train) #training\n",
    "best_parameters = grid_search.best_params_\n",
    "print(best_parameters)\n",
    "best_result = grid_search.best_score_\n",
    "print(best_result)"
   ]
  },
  {
   "cell_type": "markdown",
   "id": "9d9b51ef",
   "metadata": {},
   "source": [
    "#### Predict using the using the best model (number of trees) found with GridSearchCV\n",
    "'n_estimators': 300"
   ]
  },
  {
   "cell_type": "code",
   "execution_count": 36,
   "id": "22894930",
   "metadata": {},
   "outputs": [
    {
     "data": {
      "text/plain": [
       "RandomForestClassifier(criterion='entropy', n_estimators=300, random_state=110)"
      ]
     },
     "execution_count": 36,
     "metadata": {},
     "output_type": "execute_result"
    }
   ],
   "source": [
    "rfc_300 = RandomForestClassifier(n_estimators=300, criterion='entropy', max_features='auto',random_state=110)\n",
    "rfc_300.fit(X_train,Y_train) # Training"
   ]
  },
  {
   "cell_type": "code",
   "execution_count": 37,
   "id": "533955c4",
   "metadata": {},
   "outputs": [],
   "source": [
    "pred_rfc300 = grid_search.predict(X_test)"
   ]
  },
  {
   "cell_type": "code",
   "execution_count": 39,
   "id": "1464b9b8",
   "metadata": {},
   "outputs": [
    {
     "name": "stdout",
     "output_type": "stream",
     "text": [
      "<-------rfc_300 classification metrics---------------->\n",
      "rfc_300 accuracy is: 0.9444 ≈ 94.44 %\n",
      "rfc_300 recall is: 0.8188 ≈ 81.88 %\n",
      "rfc_300 precision is: 0.8071 ≈ 80.71 %\n"
     ]
    }
   ],
   "source": [
    "print(\"<-------rfc_300 classification metrics---------------->\")\n",
    "print(\"rfc_300 accuracy is:\", round(accuracy_score(Y_test, pred_rfc300),4),'≈', \n",
    "      round(accuracy_score(Y_test, pred_rfc300)*100,2),'%')\n",
    "print(\"rfc_300 recall is:\", round(recall_score(Y_test, pred_rfc300),4),'≈', \n",
    "      round(recall_score(Y_test, pred_rfc300)*100,2),'%')\n",
    "print(\"rfc_300 precision is:\", round(precision_score(Y_test, pred_rfc300),4),'≈', \n",
    "      round(precision_score(Y_test, pred_rfc300)*100,2),'%')"
   ]
  },
  {
   "cell_type": "code",
   "execution_count": 40,
   "id": "662a1387",
   "metadata": {
    "scrolled": true
   },
   "outputs": [
    {
     "name": "stdout",
     "output_type": "stream",
     "text": [
      "<------- rfc300 confusion matrix---------------->\n",
      "[[1542   54]\n",
      " [  50  226]]\n"
     ]
    }
   ],
   "source": [
    "print(\"<------- rfc300 confusion matrix---------------->\")\n",
    "con_matrix_rfc300 = confusion_matrix(Y_test, pred_rfc300)\n",
    "print (con_matrix_rfc300)"
   ]
  },
  {
   "cell_type": "code",
   "execution_count": 42,
   "id": "24d4f172",
   "metadata": {},
   "outputs": [
    {
     "data": {
      "image/png": "[encoded data removed]",
      "text/plain": [
       "<Figure size 640x480 with 2 Axes>"
      ]
     },
     "metadata": {},
     "output_type": "display_data"
    }
   ],
   "source": [
    "plot_confusion_matrix(rfc_300,X_test,Y_test)\n",
    "#plt.savefig('rfc300_cm.png')"
   ]
  },
  {
   "cell_type": "markdown",
   "id": "3bcd5924",
   "metadata": {},
   "source": [
    "#### Method 4. Fit a RFC model using the top 12 most important features found using the best number of trees"
   ]
  },
  {
   "cell_type": "code",
   "execution_count": 43,
   "id": "f72808eb",
   "metadata": {},
   "outputs": [
    {
     "name": "stdout",
     "output_type": "stream",
     "text": [
      "Total_Trans_Ct                    0.222110\n",
      "Total_Trans_Amt                   0.175827\n",
      "Total_Revolving_Bal               0.139233\n",
      "Months_Inactive                   0.083412\n",
      "Total_Relationship_Count          0.073001\n",
      "Contacts_Count                    0.062572\n",
      "Credit_Limit                      0.046783\n",
      "Customer_Age                      0.041068\n",
      "Months_on_book                    0.032014\n",
      "Dependent_count                   0.029775\n",
      "Marital_Status                    0.027544\n",
      "Gender                            0.014806\n",
      "Education_Level_Graduate          0.005704\n",
      "Income_Category_Less than $40K    0.005607\n",
      "Education_Level_High School       0.005383\n",
      "Education_Level_Uneducated        0.005166\n",
      "Income_Category_$80K - $120K      0.004824\n",
      "Income_Category_$40K - $60K       0.004670\n",
      "Income_Category_$60K - $80K       0.003993\n",
      "Card_Category_Blue                0.003782\n",
      "Education_Level_Post-Graduate     0.003435\n",
      "Income_Category_$120K +           0.003135\n",
      "Education_Level_Doctorate         0.002708\n",
      "Card_Category_Silver              0.002082\n",
      "Card_Category_Gold                0.001329\n",
      "Card_Category_Platinum            0.000037\n",
      "dtype: float64\n"
     ]
    }
   ],
   "source": [
    "# Let's obtain the most important features\n",
    "imp_features = Series(rfc_300.feature_importances_, index=list(X)).sort_values(ascending=False)\n",
    "print(imp_features)"
   ]
  },
  {
   "cell_type": "code",
   "execution_count": 212,
   "id": "21125688",
   "metadata": {
    "scrolled": true
   },
   "outputs": [
    {
     "data": {
      "text/plain": [
       "([], [])"
      ]
     },
     "execution_count": 212,
     "metadata": {},
     "output_type": "execute_result"
    },
    {
     "data": {
      "image/png": "[encoded data removed]",
      "text/plain": [
       "<Figure size 800x400 with 1 Axes>"
      ]
     },
     "metadata": {},
     "output_type": "display_data"
    }
   ],
   "source": [
    "'Lets plot the feature importance'\n",
    "plt.figure(figsize=(8, 4))\n",
    "plt.plot(imp_features,'ko')\n",
    "plt.axvline(x=12, color='r',linewidth=2)\n",
    "plt.xlabel('Features from 1 to 26')\n",
    "plt.ylabel('Feature Significance')\n",
    "plt.xticks([])\n",
    "#plt.savefig('imp_features.png')"
   ]
  },
  {
   "cell_type": "markdown",
   "id": "3b37ca28",
   "metadata": {},
   "source": [
    "#### Using plot above, we will select the top 12 where there is a sharp decline in feature importance (just like the elbow method)"
   ]
  },
  {
   "cell_type": "code",
   "execution_count": 213,
   "id": "5ebde486",
   "metadata": {},
   "outputs": [
    {
     "data": {
      "text/plain": [
       "Total_Trans_Ct              0.222110\n",
       "Total_Trans_Amt             0.175827\n",
       "Total_Revolving_Bal         0.139233\n",
       "Months_Inactive             0.083412\n",
       "Total_Relationship_Count    0.073001\n",
       "Contacts_Count              0.062572\n",
       "Credit_Limit                0.046783\n",
       "Customer_Age                0.041068\n",
       "Months_on_book              0.032014\n",
       "Dependent_count             0.029775\n",
       "Marital_Status              0.027544\n",
       "Gender                      0.014806\n",
       "dtype: float64"
      ]
     },
     "execution_count": 213,
     "metadata": {},
     "output_type": "execute_result"
    }
   ],
   "source": [
    "print(imp_features[:12])"
   ]
  },
  {
   "cell_type": "code",
   "execution_count": 88,
   "id": "7c23ede2",
   "metadata": {},
   "outputs": [],
   "source": [
    "reduced_features = imp_features.index\n",
    "reduced_features = list(reduced_features)\n",
    "reduced_features = reduced_features[:12] #Let's take the top 12"
   ]
  },
  {
   "cell_type": "code",
   "execution_count": 89,
   "id": "6c953e5a",
   "metadata": {},
   "outputs": [
    {
     "data": {
      "text/plain": [
       "['Total_Trans_Ct',\n",
       " 'Total_Trans_Amt',\n",
       " 'Total_Revolving_Bal',\n",
       " 'Months_Inactive',\n",
       " 'Total_Relationship_Count',\n",
       " 'Contacts_Count',\n",
       " 'Credit_Limit',\n",
       " 'Customer_Age',\n",
       " 'Months_on_book',\n",
       " 'Dependent_count',\n",
       " 'Marital_Status',\n",
       " 'Gender']"
      ]
     },
     "execution_count": 89,
     "metadata": {},
     "output_type": "execute_result"
    }
   ],
   "source": [
    "print(reduced_features)"
   ]
  },
  {
   "cell_type": "code",
   "execution_count": 90,
   "id": "0b7e83ac",
   "metadata": {},
   "outputs": [],
   "source": [
    "n_estimators=[64,100,128,200,250,300]\n",
    "max_features= [2,4,6,8,10,12,'auto']\n"
   ]
  },
  {
   "cell_type": "code",
   "execution_count": 91,
   "id": "907100b4",
   "metadata": {},
   "outputs": [],
   "source": [
    "param_grid = {'n_estimators':n_estimators,\n",
    "             'max_features':max_features}  "
   ]
  },
  {
   "cell_type": "code",
   "execution_count": 92,
   "id": "8f2ed3a8",
   "metadata": {},
   "outputs": [],
   "source": [
    "# Using the top 12 important features only \n",
    "\n",
    "X_imp = dataset[['Total_Trans_Ct','Total_Trans_Amt','Total_Revolving_Bal','Months_Inactive',\n",
    "                'Total_Relationship_Count','Contacts_Count','Credit_Limit','Customer_Age',\n",
    "                'Months_on_book','Dependent_count','Marital_Status','Gender']]\n",
    "X_imp_scaled = StandardScaler().fit_transform(X_imp) # scaling\n",
    "X_imp_train, X_imp_test, Y_imp_train, Y_imp_test = train_test_split( X_imp_scaled, Y, test_size = 0.3, random_state = 105)# splitting\n",
    "X_imp_train,Y_imp_train =SMOTE (random_state = 100).fit_resample(X_imp_train,Y_imp_train)# balancing"
   ]
  },
  {
   "cell_type": "code",
   "execution_count": 93,
   "id": "22c15d58",
   "metadata": {},
   "outputs": [
    {
     "name": "stdout",
     "output_type": "stream",
     "text": [
      "{'max_features': 2, 'n_estimators': 200}\n",
      "0.9768381218611879\n"
     ]
    }
   ],
   "source": [
    "rfc_imp = RandomForestClassifier(random_state=106) # building classifier\n",
    "\n",
    "grid_search2 = GridSearchCV(estimator=rfc_imp, param_grid=param_grid, scoring='recall', cv=5)\n",
    "grid_search2.fit(X_imp_train, Y_imp_train) #training \n",
    "\n",
    "best_parameters_imp = grid_search2.best_params_\n",
    "print(best_parameters_imp)\n",
    "best_result_imp = grid_search2.best_score_\n",
    "print(best_result_imp)"
   ]
  },
  {
   "cell_type": "code",
   "execution_count": 28,
   "id": "97b585ff",
   "metadata": {},
   "outputs": [],
   "source": [
    "pred_gs2 = grid_search2.predict(X_imp_test)"
   ]
  },
  {
   "cell_type": "code",
   "execution_count": 29,
   "id": "89f87ad0",
   "metadata": {},
   "outputs": [
    {
     "name": "stdout",
     "output_type": "stream",
     "text": [
      "----rfc with max_features: 2 and 200 trees (using top 12 features) metrics----------------\n",
      "rfc with max_features: 2 and 200 trees accuracy is: 0.9535 ≈ 95.35 %\n",
      "rfc with max_features: 2 and 200 trees recall is: 0.8667 ≈ 86.67 %\n",
      "rfc with max_features: 2 and 200 trees precision is: 0.8345 ≈ 83.45 %\n"
     ]
    }
   ],
   "source": [
    "print(\"----rfc with max_features: 2 and 200 trees (using top 12 features) metrics----------------\")\n",
    "print(\"rfc with max_features: 2 and 200 trees accuracy is:\", round(accuracy_score(Y_imp_test, pred_gs2),4),'≈', \n",
    "      round(accuracy_score(Y_imp_test, pred_gs2)*100,2),'%')\n",
    "print(\"rfc with max_features: 2 and 200 trees recall is:\", round(recall_score(Y_imp_test, pred_gs2),4),'≈', \n",
    "      round(recall_score(Y_imp_test, pred_gs2)*100,2),'%')\n",
    "print(\"rfc with max_features: 2 and 200 trees precision is:\", round(precision_score(Y_imp_test, pred_gs2),4),'≈', \n",
    "      round(precision_score(Y_imp_test, pred_gs2)*100,2),'%')"
   ]
  },
  {
   "cell_type": "code",
   "execution_count": 30,
   "id": "00e38e59",
   "metadata": {},
   "outputs": [
    {
     "name": "stdout",
     "output_type": "stream",
     "text": [
      "----rfc with max_features: 2 and 200 trees (using top 12 features) confusion matrix----------------\n",
      "[[1538   49]\n",
      " [  38  247]]\n"
     ]
    }
   ],
   "source": [
    "print(\"----rfc with max_features: 2 and 200 trees (using top 12 features) confusion matrix----------------\")\n",
    "con_matrix_gs2 = confusion_matrix(Y_imp_test, pred_gs2)\n",
    "print (con_matrix_gs2)"
   ]
  },
  {
   "cell_type": "markdown",
   "id": "80e1efe3",
   "metadata": {},
   "source": [
    "#### Checking the influence of excluding the max_features on the model with the top 12 features "
   ]
  },
  {
   "cell_type": "code",
   "execution_count": 150,
   "id": "a9c0402c",
   "metadata": {},
   "outputs": [
    {
     "name": "stdout",
     "output_type": "stream",
     "text": [
      "{'n_estimators': 200}\n",
      "0.9771109731572315\n"
     ]
    }
   ],
   "source": [
    "rfc_imp = RandomForestClassifier(criterion='entropy', max_features='auto', random_state=106) # building classifier\n",
    "no_trees = {'n_estimators': [100, 200, 250, 300, 350, 400]}\n",
    "grid_search3 = GridSearchCV(estimator=rfc_imp, param_grid=no_trees, scoring='recall', cv=5)\n",
    "grid_search3.fit(X_imp_train, Y_imp_train) #training \n",
    "\n",
    "best_parameters_imp3 = grid_search3.best_params_\n",
    "print(best_parameters_imp3)\n",
    "best_result_imp3 = grid_search3.best_score_\n",
    "print(best_result_imp3)\n"
   ]
  },
  {
   "cell_type": "code",
   "execution_count": 155,
   "id": "f4e407fb",
   "metadata": {},
   "outputs": [],
   "source": [
    "pred_gs3 = grid_search3.predict(X_imp_test)\n"
   ]
  },
  {
   "cell_type": "code",
   "execution_count": 200,
   "id": "d1ea64bb",
   "metadata": {
    "scrolled": true
   },
   "outputs": [
    {
     "name": "stdout",
     "output_type": "stream",
     "text": [
      "rfc with 200 trees accuracy is: 0.9514 ≈ 95.14 %\n",
      "rfc with 200 trees recall is: 0.8702 ≈ 87.02 %\n",
      "rfc with 200 trees precision is: 0.8212 ≈ 82.12 %\n"
     ]
    }
   ],
   "source": [
    "print(\"rfc with 200 trees accuracy is:\", round(accuracy_score(Y_imp_test, pred_gs3),4),'≈', \n",
    "      round(accuracy_score(Y_imp_test, pred_gs3)*100,2),'%')\n",
    "print(\"rfc with 200 trees recall is:\", round(recall_score(Y_imp_test, pred_gs3),4),'≈', \n",
    "      round(recall_score(Y_imp_test, pred_gs3)*100,2),'%')\n",
    "print(\"rfc with 200 trees precision is:\", round(precision_score(Y_imp_test, pred_gs3),4),'≈', \n",
    "      round(precision_score(Y_imp_test, pred_gs3)*100,2),'%')"
   ]
  },
  {
   "cell_type": "code",
   "execution_count": 203,
   "id": "0a7af116",
   "metadata": {},
   "outputs": [
    {
     "name": "stdout",
     "output_type": "stream",
     "text": [
      "--------rfc with 200 trees confusion matrix----------\n",
      "[[1533   54]\n",
      " [  37  248]]\n"
     ]
    }
   ],
   "source": [
    "print(\"--------rfc with 200 trees confusion matrix----------\")\n",
    "con_matrix_gs3 = confusion_matrix(Y_imp_test, pred_gs3)\n",
    "print (con_matrix_gs3)"
   ]
  },
  {
   "cell_type": "markdown",
   "id": "67385afb",
   "metadata": {},
   "source": [
    "#### 3c: Using a pipeline"
   ]
  },
  {
   "cell_type": "code",
   "execution_count": 32,
   "id": "282cd5d0",
   "metadata": {},
   "outputs": [],
   "source": [
    "params = {'classification__n_estimators':[100,200,250,300,350,400], \n",
    "          'classification__max_features':[2,4,6,8,10,12,'auto']}  \n",
    "\n"
   ]
  },
  {
   "cell_type": "code",
   "execution_count": 34,
   "id": "a564feaa",
   "metadata": {},
   "outputs": [
    {
     "name": "stdout",
     "output_type": "stream",
     "text": [
      "{'classification__max_features': 10, 'classification__n_estimators': 350}\n",
      "0.849645390070922\n"
     ]
    }
   ],
   "source": [
    "model = Pipeline([('balancing', SMOTE(random_state = 101)),\n",
    "        ('classification', RandomForestClassifier(criterion='entropy', max_features='auto', random_state=1) )# building classifier\n",
    "    ]) # building classifier \n",
    "grid_search_pipe = GridSearchCV(estimator=model, param_grid=params, scoring='recall', cv=5)\n",
    "grid_search_pipe.fit(X_train, Y_train)\n",
    "\n",
    "best_parameters_p = grid_search_pipe.best_params_\n",
    "print(best_parameters_p)\n",
    "best_result_p = grid_search_pipe.best_score_ \n",
    "print(best_result_p)"
   ]
  },
  {
   "cell_type": "code",
   "execution_count": 35,
   "id": "373a947c",
   "metadata": {},
   "outputs": [],
   "source": [
    "pred_gs_pipe = grid_search_pipe.predict(X_test)"
   ]
  },
  {
   "cell_type": "code",
   "execution_count": 38,
   "id": "c87c0589",
   "metadata": {},
   "outputs": [
    {
     "name": "stdout",
     "output_type": "stream",
     "text": [
      "The random forest model using a pipeline are as follows: \n",
      "rfc using pipeline (max_features=10 and 350 trees) accuracy is: 0.9402 ≈ 94.02 %\n",
      "rfc using pipeline (max_features=10 and 350 trees) recall is: 0.8261 ≈ 82.61 %\n",
      "rfc using pipeline (max_features=10 and 350 trees) precision is: 0.7808 ≈ 78.08 %\n"
     ]
    }
   ],
   "source": [
    "print(\"The random forest model using a pipeline are as follows: \")\n",
    "print(\"rfc using pipeline (max_features=10 and 350 trees) accuracy is:\", round(accuracy_score(Y_test, pred_gs_pipe),4),'≈', \n",
    "      round(accuracy_score(Y_test, pred_gs_pipe)*100,2),'%')\n",
    "print(\"rfc using pipeline (max_features=10 and 350 trees) recall is:\", round(recall_score(Y_test, pred_gs_pipe),4),'≈', \n",
    "      round(recall_score(Y_test, pred_gs_pipe)*100,2),'%')\n",
    "print(\"rfc using pipeline (max_features=10 and 350 trees) precision is:\", round(precision_score(Y_test, pred_gs_pipe),4),'≈', \n",
    "      round(precision_score(Y_test, pred_gs_pipe)*100,2),'%')"
   ]
  },
  {
   "cell_type": "code",
   "execution_count": 39,
   "id": "acf51b87",
   "metadata": {},
   "outputs": [
    {
     "name": "stdout",
     "output_type": "stream",
     "text": [
      "--------rfc using pipeline (max_features=10 and 350 trees) confusion matrix----------\n",
      "[[1532   64]\n",
      " [  48  228]]\n"
     ]
    }
   ],
   "source": [
    "print(\"--------rfc using pipeline (max_features=10 and 350 trees) confusion matrix----------\")\n",
    "con_matrix_gs_pipe = confusion_matrix(Y_test, pred_gs_pipe)\n",
    "print (con_matrix_gs_pipe)"
   ]
  },
  {
   "cell_type": "markdown",
   "id": "a9987414",
   "metadata": {},
   "source": [
    "#### 3d: Using a pipeline with the top 12 important features "
   ]
  },
  {
   "cell_type": "code",
   "execution_count": 41,
   "id": "37a87058",
   "metadata": {},
   "outputs": [
    {
     "name": "stdout",
     "output_type": "stream",
     "text": [
      "{'classification__max_features': 2, 'classification__n_estimators': 300}\n",
      "0.9782012631453731\n"
     ]
    }
   ],
   "source": [
    "model2 = Pipeline([\n",
    "        ('balancing', SMOTE(random_state = 107)),\n",
    "('classification', RandomForestClassifier(criterion='entropy', max_features='auto', random_state=108) )])\n",
    "# no_trees = {'classification__n_estimators': [100,200,250,300,350,400]}\n",
    "grid_search4 = GridSearchCV(estimator=model2, param_grid=params, scoring='recall', cv=5)\n",
    "grid_search4.fit(X_imp_train, Y_imp_train)\n",
    "\n",
    "best_parameters_pipe = grid_search4.best_params_\n",
    "print(best_parameters_pipe)\n",
    "best_result_pipe = grid_search4.best_score_ \n",
    "print(best_result_pipe)"
   ]
  },
  {
   "cell_type": "code",
   "execution_count": 169,
   "id": "55c02bb8",
   "metadata": {},
   "outputs": [],
   "source": [
    "pred_gs4 = grid_search4.predict(X_imp_test)"
   ]
  },
  {
   "cell_type": "code",
   "execution_count": 183,
   "id": "4ad003d0",
   "metadata": {},
   "outputs": [
    {
     "name": "stdout",
     "output_type": "stream",
     "text": [
      "The random forest model using a pipeline with 300 trees are as follows: \n",
      "rfc using pipeline with the top 12 important features accuracy is: 0.9541 ≈ 95.41 %\n",
      "rfc using pipeline with the top 12 important features recall is: 0.8737 ≈ 87.37 %\n",
      "rfc using pipeline with the top 12 important features precision is: 0.8328 ≈ 83.28 %\n"
     ]
    }
   ],
   "source": [
    "print(\"The random forest model using a pipeline with 300 trees are as follows: \")\n",
    "print(\"rfc using pipeline with the top 12 important features accuracy is:\", round(accuracy_score(Y_imp_test, pred_gs4),4),'≈', \n",
    "      round(accuracy_score(Y_imp_test, pred_gs4)*100,2),'%')\n",
    "print(\"rfc using pipeline with the top 12 important features recall is:\", round(recall_score(Y_imp_test, pred_gs4),4),'≈', \n",
    "      round(recall_score(Y_imp_test, pred_gs4)*100,2),'%')\n",
    "print(\"rfc using pipeline with the top 12 important features precision is:\", round(precision_score(Y_imp_test, pred_gs4),4),'≈', \n",
    "      round(precision_score(Y_imp_test, pred_gs4)*100,2),'%')"
   ]
  },
  {
   "cell_type": "code",
   "execution_count": 207,
   "id": "dfe0418a",
   "metadata": {
    "scrolled": false
   },
   "outputs": [
    {
     "name": "stdout",
     "output_type": "stream",
     "text": [
      "--------rfc using pipeline with the top 12 important features (300 trees) confusion matrix----------\n",
      "[[1537   50]\n",
      " [  36  249]]\n"
     ]
    }
   ],
   "source": [
    "print(\"--------rfc using pipeline with the top 12 important features (300 trees) confusion matrix----------\")\n",
    "con_matrix_gs4 = confusion_matrix(Y_imp_test, pred_gs4)\n",
    "print (con_matrix_gs4)"
   ]
  },
  {
   "cell_type": "code",
   "execution_count": 179,
   "id": "d7a1fdae",
   "metadata": {},
   "outputs": [
    {
     "name": "stdout",
     "output_type": "stream",
     "text": [
      "{'classification__max_features': 2, 'classification__n_estimators': 300}\n",
      "0.9782012631453731\n"
     ]
    }
   ],
   "source": [
    "model2 = Pipeline([\n",
    "        ('balancing', SMOTE(random_state = 107)),\n",
    "('classification', RandomForestClassifier(criterion='entropy', max_features='auto', random_state=108) )])\n",
    "\n",
    "\n",
    "grid_search5 = GridSearchCV(estimator=model2, param_grid=params, scoring='recall', cv=5)\n",
    "grid_search5.fit(X_imp_train, Y_imp_train)\n",
    "\n",
    "best_parameters_pipe2 = grid_search5.best_params_\n",
    "print(best_parameters_pipe2)\n",
    "best_result_pipe2 = grid_search5.best_score_ \n",
    "print(best_result_pipe2)"
   ]
  },
  {
   "cell_type": "code",
   "execution_count": 182,
   "id": "1898dbfa",
   "metadata": {},
   "outputs": [],
   "source": [
    "pred_gs5 = grid_search5.predict(X_imp_test)"
   ]
  },
  {
   "cell_type": "code",
   "execution_count": 185,
   "id": "a5e10bd6",
   "metadata": {},
   "outputs": [
    {
     "name": "stdout",
     "output_type": "stream",
     "text": [
      "The random forest model using a pipeline with 300 trees and max_features: 2 are as follows: \n",
      "rfc using pipeline with the top 12 important features accuracy is: 0.9541 ≈ 95.41 %\n",
      "rfc using pipeline with the top 12 important features recall is: 0.87368 ≈ 85.61 %\n",
      "rfc using pipeline with the top 12 important features precision is: 0.8443 ≈ 84.43 %\n"
     ]
    }
   ],
   "source": [
    "print(\"The random forest model using a pipeline with 300 trees and max_features: 2 are as follows: \")\n",
    "print(\"rfc using pipeline with the top 12 important features accuracy is:\", round(accuracy_score(Y_imp_test, pred_gs5),4),'≈', \n",
    "      round(accuracy_score(Y_imp_test, pred_gs5)*100,2),'%')\n",
    "print(\"rfc using pipeline with the top 12 important features recall is:\", round(recall_score(Y_imp_test, pred_gs4),5),'≈', \n",
    "      round(recall_score(Y_imp_test, pred_gs5)*100,2),'%')\n",
    "print(\"rfc using pipeline with the top 12 important features precision is:\", round(precision_score(Y_imp_test, pred_gs5),4),'≈', \n",
    "      round(precision_score(Y_imp_test, pred_gs5)*100,2),'%')"
   ]
  },
  {
   "cell_type": "code",
   "execution_count": 208,
   "id": "a96b4fff",
   "metadata": {},
   "outputs": [
    {
     "name": "stdout",
     "output_type": "stream",
     "text": [
      "--rfc using pipeline with the top 12 important features (300 trees and max_features: 2) confusion matrix--\n",
      "[[1542   45]\n",
      " [  41  244]]\n"
     ]
    }
   ],
   "source": [
    "print(\"--rfc using pipeline with the top 12 important features (300 trees and max_features: 2) confusion matrix--\")\n",
    "con_matrix_gs5 = confusion_matrix(Y_imp_test, pred_gs5)\n",
    "print (con_matrix_gs5)"
   ]
  },
  {
   "cell_type": "code",
   "execution_count": 97,
   "id": "bd769a1f",
   "metadata": {},
   "outputs": [
    {
     "data": {
      "image/png": "[encoded data removed]",
      "text/plain": [
       "<Figure size 640x480 with 1 Axes>"
      ]
     },
     "metadata": {},
     "output_type": "display_data"
    }
   ],
   "source": [
    "import seaborn as sns\n",
    "sns.boxplot(x=\"Attrition_Flag\", y=\"Customer_Age\",\n",
    "            hue=\"Attrition_Flag\", palette=[\"b\", \"#DD8452\"],\n",
    "            data=data).set_title(\"Age vs Churn\", fontsize=15)\n",
    "sns.despine(offset=10, trim=True)"
   ]
  },
  {
   "cell_type": "code",
   "execution_count": 101,
   "id": "026e15c7",
   "metadata": {},
   "outputs": [
    {
     "data": {
      "image/png": "[encoded data removed]",
      "text/plain": [
       "<Figure size 640x480 with 1 Axes>"
      ]
     },
     "metadata": {},
     "output_type": "display_data"
    }
   ],
   "source": [
    "dataset[\"Customer_Age\"].hist()\n",
    "plt.xlabel(\"Age\")\n",
    "plt.ylabel(\"Amount of customers\")\n",
    "plt.title(\"Age distribution\", fontsize=15)\n",
    "plt.show()"
   ]
  },
  {
   "cell_type": "code",
   "execution_count": 118,
   "id": "eb71943e",
   "metadata": {},
   "outputs": [],
   "source": [
    "churned = data[data['Attrition_Flag'] == 1]\n",
    "nonchurned = data[data['Attrition_Flag'] == 0]"
   ]
  },
  {
   "cell_type": "code",
   "execution_count": 124,
   "id": "422820fc",
   "metadata": {},
   "outputs": [
    {
     "data": {
      "image/png": "[encoded data removed]",
      "text/plain": [
       "<Figure size 640x480 with 2 Axes>"
      ]
     },
     "metadata": {},
     "output_type": "display_data"
    }
   ],
   "source": [
    "churnedtarget = churned[\"Gender\"].value_counts()\n",
    "nonchurnedtarget = nonchurned[\"Gender\"].value_counts()\n",
    "\n",
    "fig1, axs = plt.subplots(1, 2)\n",
    "\n",
    "axs[0].pie(churnedtarget, labels=['Attrited Customer','Exisiting Customer'], autopct='%1.1f%%', shadow=None)\n",
    "axs[0].axis('equal')\n",
    "axs[0].set_title('Existing customers')\n",
    "\n",
    "axs[1].pie(nonchurnedtarget, labels=['Attrited Customer','Exisiting Customer'], autopct='%1.1f%%', shadow=None)\n",
    "axs[1].axis('equal')\n",
    "axs[1].set_title('Churning customers')\n",
    "\n",
    "plt.show()"
   ]
  },
  {
   "cell_type": "code",
   "execution_count": 126,
   "id": "039a6914",
   "metadata": {},
   "outputs": [
    {
     "data": {
      "image/png": "[encoded data removed]",
      "text/plain": [
       "<Figure size 1000x700 with 1 Axes>"
      ]
     },
     "metadata": {},
     "output_type": "display_data"
    }
   ],
   "source": [
    "N = 6\n",
    "ChurnedCounts = churned[\"Dependent_count\"].value_counts().sort_index()\n",
    "NonChurnedCounts = nonchurned[\"Dependent_count\"].value_counts().sort_index()\n",
    "\n",
    "ind = np.arange(N)    # the x locations for the groups\n",
    "width = 0.3       # the width of the bars: can also be len(x) sequence\n",
    "\n",
    "figs, axs = plt.subplots(figsize=(10,7))\n",
    "\n",
    "axs.bar(ind - width/2, ChurnedCounts, width, color = \"#DD8452\")\n",
    "axs.bar(ind + width/2, NonChurnedCounts, width)\n",
    "\n",
    "axs.set_xlabel('Dependent Count')\n",
    "axs.set_ylabel('Amount of People')\n",
    "axs.set_title('Distribution of the dependent count', fontsize=20)\n",
    "# axs.set_xticks(ind, ('0', '1', '2', '3', '4', '5'))\n",
    "axs.legend(('Churned Customers','Existing Customers',))\n",
    "\n",
    "plt.show()"
   ]
  },
  {
   "cell_type": "code",
   "execution_count": 132,
   "id": "1c47c4d4",
   "metadata": {},
   "outputs": [],
   "source": [
    "def plot_pie(column):\n",
    "    target = data[column].value_counts()    \n",
    "    fig1, ax1 = plt.subplots()    \n",
    "    ax1.pie(target, labels=target.index, autopct='%1.1f%%', shadow=None)\n",
    "    ax1.axis('equal')\n",
    "    plt.title(\"All customers\", fontsize=14)\n",
    "    plt.show()"
   ]
  },
  {
   "cell_type": "code",
   "execution_count": 138,
   "id": "5ffbf6b4",
   "metadata": {},
   "outputs": [],
   "source": [
    "a = data['Education_Level'].value_counts()"
   ]
  },
  {
   "cell_type": "code",
   "execution_count": 143,
   "id": "6106bcd0",
   "metadata": {},
   "outputs": [
    {
     "data": {
      "image/png": "[encoded data removed]",
      "text/plain": [
       "<Figure size 640x480 with 1 Axes>"
      ]
     },
     "metadata": {},
     "output_type": "display_data"
    }
   ],
   "source": [
    "plt.pie(a,labels=a.index,autopct='%1.1f%%', shadow=None);"
   ]
  },
  {
   "cell_type": "code",
   "execution_count": 141,
   "id": "6cc2de41",
   "metadata": {},
   "outputs": [
    {
     "data": {
      "text/plain": [
       "Index(['Graduate', 'High School', 'Uneducated', 'Post-Graduate', 'Doctorate'], dtype='object')"
      ]
     },
     "execution_count": 141,
     "metadata": {},
     "output_type": "execute_result"
    }
   ],
   "source": [
    "a.index"
   ]
  },
  {
   "cell_type": "code",
   "execution_count": 147,
   "id": "e09c2cc3",
   "metadata": {},
   "outputs": [],
   "source": [
    "CEL = churned[\"Education_Level\"].value_counts().sort_index()\n",
    "nCEL = nonchurned[\"Education_Level\"].value_counts().sort_index()"
   ]
  },
  {
   "cell_type": "code",
   "execution_count": 151,
   "id": "3da5d3db",
   "metadata": {},
   "outputs": [
    {
     "data": {
      "text/plain": [
       "0     90\n",
       "1    162\n",
       "2    252\n",
       "3    285\n",
       "4    153\n",
       "5     39\n",
       "Name: Dependent_count, dtype: int64"
      ]
     },
     "execution_count": 151,
     "metadata": {},
     "output_type": "execute_result"
    }
   ],
   "source": [
    "churned[\"Dependent_count\"].value_counts().sort_index()"
   ]
  },
  {
   "cell_type": "code",
   "execution_count": 153,
   "id": "fe6ef750",
   "metadata": {},
   "outputs": [],
   "source": [
    "CEL = CEL.squeeze()"
   ]
  },
  {
   "cell_type": "code",
   "execution_count": 159,
   "id": "897cdade",
   "metadata": {},
   "outputs": [],
   "source": [
    "CEL.index = [0,1,2,3,4]\n",
    "nCEL.index = [0,1,2,3,4]"
   ]
  },
  {
   "cell_type": "code",
   "execution_count": 158,
   "id": "6845400f",
   "metadata": {},
   "outputs": [
    {
     "data": {
      "text/plain": [
       "0     75\n",
       "1    406\n",
       "2    237\n",
       "3     77\n",
       "4    186\n",
       "Name: Education_Level, dtype: int64"
      ]
     },
     "execution_count": 158,
     "metadata": {},
     "output_type": "execute_result"
    }
   ],
   "source": [
    "CEL"
   ]
  },
  {
   "cell_type": "code",
   "execution_count": 161,
   "id": "e62c1b25",
   "metadata": {},
   "outputs": [],
   "source": [
    "def plot_compare(column, category_name):\n",
    "    NChurned = len(churned[column].unique())\n",
    "    NNonChurned = len(nonchurned[column].unique())\n",
    "    \n",
    "    ChurnedCounts = churned[column].value_counts().sort_index()\n",
    "    NonChurnedCounts = nonchurned[column].value_counts().sort_index()\n",
    "    \n",
    "    indchurned = np.arange(NChurned)    # the x locations for the groups\n",
    "    indnonchurned = np.arange(NNonChurned)    \n",
    "    width = 1       # the width of the bars: can also be len(x) sequence\n",
    "    \n",
    "    figs, axs = plt.subplots(1,2, figsize=(12,5))\n",
    "    \n",
    "    axs[1].bar(indchurned, ChurnedCounts, width, color='#DD8452')\n",
    "    axs[1].set_title('Churned ' + category_name, fontsize=20)\n",
    "    axs[1].set_xticks(indchurned)\n",
    "    axs[1].set_xticklabels(ChurnedCounts.index.tolist(), rotation=45)\n",
    "    \n",
    "    axs[0].bar(indnonchurned, NonChurnedCounts, width, color='b')\n",
    "    axs[0].set_title('Non Churned ' + category_name, fontsize=20)\n",
    "    axs[0].set_ylabel('Amount of People')\n",
    "    axs[0].set_xticks(indnonchurned)\n",
    "    axs[0].set_xticklabels(NonChurnedCounts.index.tolist(), rotation=45)\n",
    "    \n",
    "    \n",
    "    plt.show()"
   ]
  },
  {
   "cell_type": "code",
   "execution_count": 162,
   "id": "d3580351",
   "metadata": {},
   "outputs": [
    {
     "data": {
      "image/png": "[encoded data removed]",
      "text/plain": [
       "<Figure size 1200x500 with 2 Axes>"
      ]
     },
     "metadata": {},
     "output_type": "display_data"
    }
   ],
   "source": [
    "plot_compare(\"Card_Category\", \"Types of cards\")"
   ]
  },
  {
   "cell_type": "code",
   "execution_count": 165,
   "id": "14875fa5",
   "metadata": {},
   "outputs": [
    {
     "data": {
      "text/plain": [
       "Index(['Attrition_Flag', 'Customer_Age', 'Gender', 'Dependent_count',\n",
       "       'Education_Level', 'Marital_Status', 'Income_Category', 'Card_Category',\n",
       "       'Months_on_book', 'Total_Relationship_Count', 'Months_Inactive',\n",
       "       'Contacts_Count', 'Credit_Limit', 'Total_Revolving_Bal',\n",
       "       'Total_Trans_Amt', 'Total_Trans_Ct'],\n",
       "      dtype='object')"
      ]
     },
     "execution_count": 165,
     "metadata": {},
     "output_type": "execute_result"
    }
   ],
   "source": [
    "data.columns"
   ]
  },
  {
   "cell_type": "code",
   "execution_count": 178,
   "id": "9638cad8",
   "metadata": {
    "scrolled": true
   },
   "outputs": [],
   "source": [
    "imb = data['Attrition_Flag'].value_counts()"
   ]
  },
  {
   "cell_type": "code",
   "execution_count": 181,
   "id": "6bf1c51e",
   "metadata": {},
   "outputs": [
    {
     "data": {
      "image/png": "[encoded data removed]",
      "text/plain": [
       "<Figure size 640x480 with 1 Axes>"
      ]
     },
     "metadata": {},
     "output_type": "display_data"
    }
   ],
   "source": [
    "plt.pie(imb,labels=['Existing Customer','Attrited Customer'],autopct='%1.1f%%', shadow=None)\n",
    "#plt.savefig('imb_data.png');"
   ]
  },
  {
   "cell_type": "code",
   "execution_count": 204,
   "id": "1a3e773f",
   "metadata": {},
   "outputs": [],
   "source": [
    "b = Y_train.value_counts()"
   ]
  },
  {
   "cell_type": "code",
   "execution_count": 207,
   "id": "d835ac39",
   "metadata": {},
   "outputs": [
    {
     "data": {
      "image/png": "[encoded data removed]",
      "text/plain": [
       "<Figure size 800x600 with 2 Axes>"
      ]
     },
     "metadata": {},
     "output_type": "display_data"
    }
   ],
   "source": [
    "fig = plt.figure(figsize=(8,6))\n",
    "\n",
    "ax1 = plt.subplot2grid((1, 2), (0, 0), rowspan=1, colspan=1)\n",
    "ax2 = plt.subplot2grid((1, 2), (0, 1), rowspan=1, colspan=1)\n",
    "\n",
    "ax1.pie(imb,labels=['Existing Customer','Attrited Customer'],autopct='%1.1f%%', shadow=None)\n",
    "ax1.set_title('Full Dataset')\n",
    "\n",
    "ax2.pie(b,labels=['Existing Customer','Attrited Customer'],autopct='%1.1f%%', shadow=None)\n",
    "ax2.set_title('Training Dataset')\n",
    "\n",
    "fig.tight_layout()\n",
    "fig.savefig('imb2.png', format='png')"
   ]
  },
  {
   "cell_type": "code",
   "execution_count": null,
   "id": "4f9f259c",
   "metadata": {},
   "outputs": [],
   "source": []
  }
 ],
 "metadata": {
  "kernelspec": {
   "display_name": "Python 3 (ipykernel)",
   "language": "python",
   "name": "python3"
  },
  "language_info": {
   "codemirror_mode": {
    "name": "ipython",
    "version": 3
   },
   "file_extension": ".py",
   "mimetype": "text/x-python",
   "name": "python",
   "nbconvert_exporter": "python",
   "pygments_lexer": "ipython3",
   "version": "3.7.6"
  }
 },
 "nbformat": 4,
 "nbformat_minor": 5
}
